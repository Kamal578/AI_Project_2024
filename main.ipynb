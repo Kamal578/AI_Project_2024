{
 "cells": [
  {
   "cell_type": "code",
   "execution_count": 4,
   "id": "initial_id",
   "metadata": {
    "ExecuteTime": {
     "end_time": "2024-03-24T09:10:09.999209Z",
     "start_time": "2024-03-24T09:10:09.487505Z"
    },
    "collapsed": true
   },
   "outputs": [
    {
     "ename": "ImportError",
     "evalue": "cannot import name 'DecisionTree' from 'src.DecisionTree' (c:\\Users\\akifm\\Documents\\Programming\\Python\\AI\\AI_Project_2024\\src\\DecisionTree.py)",
     "output_type": "error",
     "traceback": [
      "\u001b[1;31m---------------------------------------------------------------------------\u001b[0m",
      "\u001b[1;31mImportError\u001b[0m                               Traceback (most recent call last)",
      "Cell \u001b[1;32mIn[4], line 6\u001b[0m\n\u001b[0;32m      3\u001b[0m \u001b[38;5;28;01mimport\u001b[39;00m \u001b[38;5;21;01mpandas\u001b[39;00m \u001b[38;5;28;01mas\u001b[39;00m \u001b[38;5;21;01mpd\u001b[39;00m\n\u001b[0;32m      4\u001b[0m \u001b[38;5;28;01mfrom\u001b[39;00m \u001b[38;5;21;01msklearn\u001b[39;00m\u001b[38;5;21;01m.\u001b[39;00m\u001b[38;5;21;01mmodel_selection\u001b[39;00m \u001b[38;5;28;01mimport\u001b[39;00m train_test_split\n\u001b[1;32m----> 6\u001b[0m \u001b[38;5;28;01mfrom\u001b[39;00m \u001b[38;5;21;01msrc\u001b[39;00m\u001b[38;5;21;01m.\u001b[39;00m\u001b[38;5;21;01mDecisionTree\u001b[39;00m \u001b[38;5;28;01mimport\u001b[39;00m DecisionTree\n\u001b[0;32m      7\u001b[0m \u001b[38;5;28;01mfrom\u001b[39;00m \u001b[38;5;21;01msrc\u001b[39;00m\u001b[38;5;21;01m.\u001b[39;00m\u001b[38;5;21;01mRandomForest\u001b[39;00m \u001b[38;5;28;01mimport\u001b[39;00m RandomForest\n\u001b[0;32m      8\u001b[0m \u001b[38;5;28;01mfrom\u001b[39;00m \u001b[38;5;21;01mtests\u001b[39;00m\u001b[38;5;21;01m.\u001b[39;00m\u001b[38;5;21;01mutils\u001b[39;00m \u001b[38;5;28;01mimport\u001b[39;00m \u001b[38;5;241m*\u001b[39m\n",
      "\u001b[1;31mImportError\u001b[0m: cannot import name 'DecisionTree' from 'src.DecisionTree' (c:\\Users\\akifm\\Documents\\Programming\\Python\\AI\\AI_Project_2024\\src\\DecisionTree.py)"
     ]
    }
   ],
   "source": [
    "# import necessary libraries\n",
    "import time\n",
    "\n",
    "import pandas as pd\n",
    "from sklearn.model_selection import train_test_split\n",
    "\n",
    "from src.DecisionTree import DecisionTree\n",
    "from src.RandomForest import RandomForest\n",
    "from tests.utils import *"
   ]
  },
  {
   "cell_type": "markdown",
   "id": "741b8f7819cbd11d",
   "metadata": {
    "collapsed": false
   },
   "source": [
    "Load data"
   ]
  },
  {
   "cell_type": "code",
   "execution_count": null,
   "id": "541b988f37a95c3a",
   "metadata": {
    "ExecuteTime": {
     "end_time": "2024-03-24T09:10:10.013784Z",
     "start_time": "2024-03-24T09:10:10.001238Z"
    },
    "collapsed": false
   },
   "outputs": [],
   "source": [
    "# read cv files for red and white wines\n",
    "df_red = pd.read_csv('data/winequality-red_NO_ALCOHOL.csv', sep=';')\n",
    "df_white = pd.read_csv('data/winequality-white_NO_ALCOHOL.csv', sep=';')"
   ]
  },
  {
   "cell_type": "markdown",
   "id": "9381eb0f644c8f4f",
   "metadata": {
    "collapsed": false
   },
   "source": [
    "Split data"
   ]
  },
  {
   "cell_type": "code",
   "execution_count": null,
   "id": "5639facfa9ea3058",
   "metadata": {
    "ExecuteTime": {
     "end_time": "2024-03-24T09:10:10.020317Z",
     "start_time": "2024-03-24T09:10:10.015680Z"
    },
    "collapsed": false
   },
   "outputs": [],
   "source": [
    "# Splitting the red wine dataset into features (X_red) and target variable (y_red)\n",
    "X_red = df_red.drop('quality', axis=1).values\n",
    "y_red = df_red['quality'].values\n",
    "\n",
    "# Splitting the data into training and testing sets for the red wine dataset\n",
    "X_train_red, X_test_red, y_train_red, y_test_red = train_test_split(X_red, y_red, test_size=0.2)"
   ]
  },
  {
   "cell_type": "code",
   "execution_count": null,
   "id": "b31eef2f3c87d03b",
   "metadata": {
    "ExecuteTime": {
     "end_time": "2024-03-24T09:10:10.025827Z",
     "start_time": "2024-03-24T09:10:10.021960Z"
    },
    "collapsed": false
   },
   "outputs": [],
   "source": [
    "# Splitting the white wine dataset into features (X_white) and target variable (y_white)\n",
    "X_white = df_white.drop('quality', axis=1).values\n",
    "y_white = df_white['quality'].values\n",
    "\n",
    "# Splitting the data into training and testing sets for the white wine dataset\n",
    "X_train_white, X_test_white, y_train_white, y_test_white = train_test_split(X_white, y_white, test_size=0.2)"
   ]
  },
  {
   "cell_type": "markdown",
   "id": "270f565fa5e1eb88",
   "metadata": {
    "collapsed": false
   },
   "source": [
    "Train Decision Tree"
   ]
  },
  {
   "cell_type": "code",
   "execution_count": null,
   "id": "fc8831120eeea393",
   "metadata": {
    "ExecuteTime": {
     "end_time": "2024-03-24T09:10:10.863896Z",
     "start_time": "2024-03-24T09:10:10.026779Z"
    },
    "collapsed": false
   },
   "outputs": [
    {
     "name": "stdout",
     "output_type": "stream",
     "text": [
      "Training time:  0.8346724510192871\n"
     ]
    }
   ],
   "source": [
    "# Initialize a DecisionTree classifier for the red wine dataset with specified hyperparameters\n",
    "dt_red = DecisionTree(max_depth=10, min_samples_split=2)\n",
    "\n",
    "# Start timing the training process\n",
    "start = time.time()\n",
    "\n",
    "# Fit the DecisionTree classifier to the training data\n",
    "dt_red.fit(X_train_red, y_train_red)\n",
    "\n",
    "# End timing\n",
    "end = time.time()\n",
    "\n",
    "print('Training time: ', end - start)"
   ]
  },
  {
   "cell_type": "code",
   "execution_count": null,
   "id": "fe511d9467db7a51",
   "metadata": {
    "ExecuteTime": {
     "end_time": "2024-03-24T09:10:12.794090Z",
     "start_time": "2024-03-24T09:10:10.864826Z"
    },
    "collapsed": false
   },
   "outputs": [
    {
     "name": "stdout",
     "output_type": "stream",
     "text": [
      "Training time:  1.9262189865112305\n"
     ]
    }
   ],
   "source": [
    "# Initializing a DecisionTree classifier for the white wine dataset with specified hyperparameters\n",
    "dt_white = DecisionTree(max_depth=10, min_samples_split=2)\n",
    "\n",
    "# Start timing the training process\n",
    "start = time.time()\n",
    "\n",
    "# Fit the DecisionTree classifier to the training data\n",
    "dt_white.fit(X_train_white, y_train_white)\n",
    "\n",
    "# End timing\n",
    "end = time.time()\n",
    "\n",
    "print('Training time: ', end - start)"
   ]
  },
  {
   "cell_type": "markdown",
   "id": "ded007f11f9f367a",
   "metadata": {
    "collapsed": false
   },
   "source": [
    "Evaluate Decision Tree"
   ]
  },
  {
   "cell_type": "code",
   "execution_count": null,
   "id": "cc8029e002407797",
   "metadata": {
    "ExecuteTime": {
     "end_time": "2024-03-24T09:10:12.798676Z",
     "start_time": "2024-03-24T09:10:12.794946Z"
    },
    "collapsed": false
   },
   "outputs": [
    {
     "name": "stdout",
     "output_type": "stream",
     "text": [
      "MAE:  0.725\n",
      "MSE:  1.125\n",
      "Categorical accuracy:  0.4625\n",
      "MAE accuracy:  0.855\n",
      "MSE accuracy:  0.955\n"
     ]
    }
   ],
   "source": [
    "# Predict the target variable for the red wine dataset\n",
    "y_pred_red = dt_red.predict(X_test_red)\n",
    "\n",
    "# Calculate the maximum difference in the target variable for the red wine dataset\n",
    "m_red = max_dif(y_red)\n",
    "\n",
    "print('MAE: ', mae(y_test_red, y_pred_red)) # Mean Absolute Error\n",
    "print('MSE: ', mse(y_test_red, y_pred_red)) # Mean Squared Error\n",
    "\n",
    "print('Categorical accuracy: ', categorical_accuracy(y_test_red, y_pred_red)) # categorical accuracy\n",
    "print('MAE accuracy: ', mae_accuracy(m_red, y_test_red, y_pred_red)) # Mean Absolute Error accuracy\n",
    "print('MSE accuracy: ', mse_accuracy(m_red, y_test_red, y_pred_red)) # Mean Squared Error accuracy"
   ]
  },
  {
   "cell_type": "code",
   "execution_count": null,
   "id": "9fccbe8e2169424b",
   "metadata": {
    "ExecuteTime": {
     "end_time": "2024-03-24T09:10:12.809215Z",
     "start_time": "2024-03-24T09:10:12.799376Z"
    },
    "collapsed": false
   },
   "outputs": [
    {
     "name": "stdout",
     "output_type": "stream",
     "text": [
      "MAE:  0.6265306122448979\n",
      "MSE:  0.7755102040816326\n",
      "Categorical accuracy:  0.44387755102040816\n",
      "MAE accuracy:  0.895578231292517\n",
      "MSE accuracy:  0.9784580498866213\n"
     ]
    }
   ],
   "source": [
    "# Predict the target variable for the white wine dataset\n",
    "y_pred_white = dt_white.predict(X_test_white)\n",
    "\n",
    "# Calculate the maximum difference in the target variable for the white wine dataset\n",
    "m_white = max_dif(y_white)\n",
    "\n",
    "print('MAE: ', mae(y_test_white, y_pred_white)) # Mean Absolute Error\n",
    "print('MSE: ', mse(y_test_white, y_pred_white)) # Mean Squared Error\n",
    "\n",
    "print('Categorical accuracy: ', categorical_accuracy(y_test_white, y_pred_white)) # categorical accuracy\n",
    "print('MAE accuracy: ', mae_accuracy(m_white, y_test_white, y_pred_white)) # Mean Absolute Error accuracy\n",
    "print('MSE accuracy: ', mse_accuracy(m_white, y_test_white, y_pred_white)) # Mean Squared Error accuracy"
   ]
  },
  {
   "cell_type": "markdown",
   "id": "e9c5d6b8e0f61df2",
   "metadata": {
    "collapsed": false
   },
   "source": [
    "Train Random Forest"
   ]
  },
  {
   "cell_type": "code",
   "execution_count": null,
   "id": "a5a631e774d3ae50",
   "metadata": {
    "ExecuteTime": {
     "end_time": "2024-03-24T09:10:18.349423Z",
     "start_time": "2024-03-24T09:10:12.810046Z"
    },
    "collapsed": false
   },
   "outputs": [
    {
     "name": "stdout",
     "output_type": "stream",
     "text": [
      "Training time:  5.53687310218811\n"
     ]
    }
   ],
   "source": [
    "# Initialize a RandomForest classifier for the red wine dataset with specified hyperparameters\n",
    "rf_red = RandomForest(n_trees=10, max_depth=10, min_samples_split=2)\n",
    "\n",
    "# Start timing the training process\n",
    "start = time.time() \n",
    "\n",
    "# Fit the RandomForest classifier to the training data\n",
    "rf_red.fit(X_train_red, y_train_red)\n",
    "\n",
    "# End timing the training process\n",
    "end = time.time()\n",
    "\n",
    "print('Training time: ', end - start)"
   ]
  },
  {
   "cell_type": "code",
   "execution_count": null,
   "id": "8ca9cbdf57c2fb72",
   "metadata": {
    "ExecuteTime": {
     "end_time": "2024-03-24T09:10:32.801025Z",
     "start_time": "2024-03-24T09:10:18.350895Z"
    },
    "collapsed": false
   },
   "outputs": [
    {
     "name": "stdout",
     "output_type": "stream",
     "text": [
      "Training time:  14.447388410568237\n"
     ]
    }
   ],
   "source": [
    "# Initialize a RandomForest classifier for the white wine dataset with specified hyperparameters\n",
    "rf_white = RandomForest(n_trees=10, max_depth=10, min_samples_split=2)\n",
    "\n",
    "# Start timing the training process\n",
    "start = time.time()\n",
    "\n",
    "# Fit the RandomForest classifier to the training data\n",
    "rf_white.fit(X_train_white, y_train_white)\n",
    "\n",
    "# End timing the training process\n",
    "end = time.time()\n",
    "\n",
    "print('Training time: ', end - start)"
   ]
  },
  {
   "cell_type": "markdown",
   "id": "5962b1dc8fd21ac",
   "metadata": {
    "collapsed": false
   },
   "source": [
    "Evaluate Random Forest"
   ]
  },
  {
   "cell_type": "code",
   "execution_count": null,
   "id": "550eff31ef11c993",
   "metadata": {
    "ExecuteTime": {
     "end_time": "2024-03-24T09:10:32.810599Z",
     "start_time": "2024-03-24T09:10:32.802023Z"
    },
    "collapsed": false
   },
   "outputs": [
    {
     "name": "stdout",
     "output_type": "stream",
     "text": [
      "MAE:  0.725\n",
      "MSE:  1.125\n",
      "Categorical accuracy:  0.4625\n",
      "MAE accuracy:  0.855\n",
      "MSE accuracy:  0.955\n"
     ]
    }
   ],
   "source": [
    "# Predict the target variable for the red wine dataset\n",
    "y_pred_red = rf_red.predict(X_test_red)\n",
    "\n",
    "# Calculate the maximum difference in the target variable for the red wine dataset\n",
    "m_red = max_dif(y_red)\n",
    "\n",
    "print('MAE: ', mae(y_test_red, y_pred_red)) # Mean Absolute Error\n",
    "print('MSE: ', mse(y_test_red, y_pred_red)) # Mean Squared Error\n",
    "\n",
    "print('Categorical accuracy: ', categorical_accuracy(y_test_red, y_pred_red)) # categorical accuracy\n",
    "print('MAE accuracy: ', mae_accuracy(m_red, y_test_red, y_pred_red)) # Mean Absolute Error accuracy\n",
    "print('MSE accuracy: ', mse_accuracy(m_red, y_test_red, y_pred_red)) # Mean Squared Error accuracy"
   ]
  },
  {
   "cell_type": "code",
   "execution_count": null,
   "id": "dba654760e6f8140",
   "metadata": {
    "ExecuteTime": {
     "end_time": "2024-03-24T09:10:32.839312Z",
     "start_time": "2024-03-24T09:10:32.811361Z"
    },
    "collapsed": false
   },
   "outputs": [
    {
     "name": "stdout",
     "output_type": "stream",
     "text": [
      "MAE:  0.6265306122448979\n",
      "MSE:  0.7755102040816326\n",
      "Categorical accuracy:  0.44387755102040816\n",
      "MAE accuracy:  0.895578231292517\n",
      "MSE accuracy:  0.9784580498866213\n"
     ]
    }
   ],
   "source": [
    "# Predict the target variable for the white wine dataset\n",
    "y_pred_white = rf_white.predict(X_test_white)\n",
    "\n",
    "# Calculate the maximum difference in the target variable for the white wine dataset\n",
    "m_white = max_dif(y_white)\n",
    "\n",
    "print('MAE: ', mae(y_test_white, y_pred_white)) # Mean Absolute Error\n",
    "print('MSE: ', mse(y_test_white, y_pred_white)) # Mean Squared Error\n",
    "\n",
    "print('Categorical accuracy: ', categorical_accuracy(y_test_white, y_pred_white)) # categorical accuracy\n",
    "print('MAE accuracy: ', mae_accuracy(m_white, y_test_white, y_pred_white)) # Mean Absolute Error accuracy\n",
    "print('MSE accuracy: ', mse_accuracy(m_white, y_test_white, y_pred_white)) # Mean Squared Error accuracy"
   ]
  },
  {
   "cell_type": "code",
   "execution_count": null,
   "id": "dba1f53e400b2a65",
   "metadata": {
    "ExecuteTime": {
     "end_time": "2024-03-24T09:10:32.842152Z",
     "start_time": "2024-03-24T09:10:32.840330Z"
    },
    "collapsed": false
   },
   "outputs": [],
   "source": []
  }
 ],
 "metadata": {
  "kernelspec": {
   "display_name": "Python 3",
   "language": "python",
   "name": "python3"
  },
  "language_info": {
   "codemirror_mode": {
    "name": "ipython",
    "version": 3
   },
   "file_extension": ".py",
   "mimetype": "text/x-python",
   "name": "python",
   "nbconvert_exporter": "python",
   "pygments_lexer": "ipython3",
   "version": "3.10.4"
  }
 },
 "nbformat": 4,
 "nbformat_minor": 5
}
