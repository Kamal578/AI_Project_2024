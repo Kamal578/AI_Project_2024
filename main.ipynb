{
 "cells": [
  {
   "cell_type": "code",
   "execution_count": 1,
   "id": "initial_id",
   "metadata": {
    "collapsed": true,
    "ExecuteTime": {
     "end_time": "2024-03-24T09:10:09.999209Z",
     "start_time": "2024-03-24T09:10:09.487505Z"
    }
   },
   "outputs": [],
   "source": [
    "import time\n",
    "\n",
    "import pandas as pd\n",
    "from sklearn.model_selection import train_test_split\n",
    "\n",
    "from src.DecisionTree import DecisionTree\n",
    "from src.RandomForest import RandomForest\n",
    "from tests.utils import *"
   ]
  },
  {
   "cell_type": "markdown",
   "source": [
    "Load data"
   ],
   "metadata": {
    "collapsed": false
   },
   "id": "741b8f7819cbd11d"
  },
  {
   "cell_type": "code",
   "outputs": [],
   "source": [
    "df_red = pd.read_csv('data/winequality-red_NO_ALCOHOL.csv', sep=';')\n",
    "df_white = pd.read_csv('data/winequality-white_NO_ALCOHOL.csv', sep=';')"
   ],
   "metadata": {
    "collapsed": false,
    "ExecuteTime": {
     "end_time": "2024-03-24T09:10:10.013784Z",
     "start_time": "2024-03-24T09:10:10.001238Z"
    }
   },
   "id": "541b988f37a95c3a",
   "execution_count": 2
  },
  {
   "cell_type": "markdown",
   "source": [
    "Split data"
   ],
   "metadata": {
    "collapsed": false
   },
   "id": "9381eb0f644c8f4f"
  },
  {
   "cell_type": "code",
   "outputs": [],
   "source": [
    "X_red = df_red.drop('quality', axis=1).values\n",
    "y_red = df_red['quality'].values\n",
    "\n",
    "X_train_red, X_test_red, y_train_red, y_test_red = train_test_split(X_red, y_red, test_size=0.2)"
   ],
   "metadata": {
    "collapsed": false,
    "ExecuteTime": {
     "end_time": "2024-03-24T09:10:10.020317Z",
     "start_time": "2024-03-24T09:10:10.015680Z"
    }
   },
   "id": "5639facfa9ea3058",
   "execution_count": 3
  },
  {
   "cell_type": "code",
   "outputs": [],
   "source": [
    "X_white = df_white.drop('quality', axis=1).values\n",
    "y_white = df_white['quality'].values\n",
    "\n",
    "X_train_white, X_test_white, y_train_white, y_test_white = train_test_split(X_white, y_white, test_size=0.2)"
   ],
   "metadata": {
    "collapsed": false,
    "ExecuteTime": {
     "end_time": "2024-03-24T09:10:10.025827Z",
     "start_time": "2024-03-24T09:10:10.021960Z"
    }
   },
   "id": "b31eef2f3c87d03b",
   "execution_count": 4
  },
  {
   "cell_type": "markdown",
   "source": [
    "Train Decision Tree"
   ],
   "metadata": {
    "collapsed": false
   },
   "id": "270f565fa5e1eb88"
  },
  {
   "cell_type": "code",
   "outputs": [
    {
     "name": "stdout",
     "output_type": "stream",
     "text": [
      "Training time:  0.8346724510192871\n"
     ]
    }
   ],
   "source": [
    "dt_red = DecisionTree(max_depth=10, min_samples_split=2)\n",
    "\n",
    "start = time.time()\n",
    "\n",
    "dt_red.fit(X_train_red, y_train_red)\n",
    "\n",
    "end = time.time()\n",
    "\n",
    "print('Training time: ', end - start)"
   ],
   "metadata": {
    "collapsed": false,
    "ExecuteTime": {
     "end_time": "2024-03-24T09:10:10.863896Z",
     "start_time": "2024-03-24T09:10:10.026779Z"
    }
   },
   "id": "fc8831120eeea393",
   "execution_count": 5
  },
  {
   "cell_type": "code",
   "outputs": [
    {
     "name": "stdout",
     "output_type": "stream",
     "text": [
      "Training time:  1.9262189865112305\n"
     ]
    }
   ],
   "source": [
    "dt_white = DecisionTree(max_depth=10, min_samples_split=2)\n",
    "\n",
    "start = time.time()\n",
    "\n",
    "dt_white.fit(X_train_white, y_train_white)\n",
    "\n",
    "end = time.time()\n",
    "\n",
    "print('Training time: ', end - start)"
   ],
   "metadata": {
    "collapsed": false,
    "ExecuteTime": {
     "end_time": "2024-03-24T09:10:12.794090Z",
     "start_time": "2024-03-24T09:10:10.864826Z"
    }
   },
   "id": "fe511d9467db7a51",
   "execution_count": 6
  },
  {
   "cell_type": "markdown",
   "source": [
    "Evaluate Decision Tree"
   ],
   "metadata": {
    "collapsed": false
   },
   "id": "ded007f11f9f367a"
  },
  {
   "cell_type": "code",
   "outputs": [
    {
     "name": "stdout",
     "output_type": "stream",
     "text": [
      "MAE:  0.725\n",
      "MSE:  1.125\n",
      "Categorical accuracy:  0.4625\n",
      "MAE accuracy:  0.855\n",
      "MSE accuracy:  0.955\n"
     ]
    }
   ],
   "source": [
    "y_pred_red = dt_red.predict(X_test_red)\n",
    "\n",
    "m_red = max_dif(y_red)\n",
    "\n",
    "print('MAE: ', mae(y_test_red, y_pred_red))\n",
    "print('MSE: ', mse(y_test_red, y_pred_red))\n",
    "\n",
    "print('Categorical accuracy: ', categorical_accuracy(y_test_red, y_pred_red))\n",
    "print('MAE accuracy: ', mae_accuracy(m_red, y_test_red, y_pred_red))\n",
    "print('MSE accuracy: ', mse_accuracy(m_red, y_test_red, y_pred_red))"
   ],
   "metadata": {
    "collapsed": false,
    "ExecuteTime": {
     "end_time": "2024-03-24T09:10:12.798676Z",
     "start_time": "2024-03-24T09:10:12.794946Z"
    }
   },
   "id": "cc8029e002407797",
   "execution_count": 7
  },
  {
   "cell_type": "code",
   "outputs": [
    {
     "name": "stdout",
     "output_type": "stream",
     "text": [
      "MAE:  0.6265306122448979\n",
      "MSE:  0.7755102040816326\n",
      "Categorical accuracy:  0.44387755102040816\n",
      "MAE accuracy:  0.895578231292517\n",
      "MSE accuracy:  0.9784580498866213\n"
     ]
    }
   ],
   "source": [
    "y_pred_white = dt_white.predict(X_test_white)\n",
    "\n",
    "m_white = max_dif(y_white)\n",
    "\n",
    "print('MAE: ', mae(y_test_white, y_pred_white))\n",
    "print('MSE: ', mse(y_test_white, y_pred_white))\n",
    "\n",
    "print('Categorical accuracy: ', categorical_accuracy(y_test_white, y_pred_white))\n",
    "print('MAE accuracy: ', mae_accuracy(m_white, y_test_white, y_pred_white))\n",
    "print('MSE accuracy: ', mse_accuracy(m_white, y_test_white, y_pred_white))"
   ],
   "metadata": {
    "collapsed": false,
    "ExecuteTime": {
     "end_time": "2024-03-24T09:10:12.809215Z",
     "start_time": "2024-03-24T09:10:12.799376Z"
    }
   },
   "id": "9fccbe8e2169424b",
   "execution_count": 8
  },
  {
   "cell_type": "markdown",
   "source": [
    "Train Random Forest"
   ],
   "metadata": {
    "collapsed": false
   },
   "id": "e9c5d6b8e0f61df2"
  },
  {
   "cell_type": "code",
   "outputs": [
    {
     "name": "stdout",
     "output_type": "stream",
     "text": [
      "Training time:  5.53687310218811\n"
     ]
    }
   ],
   "source": [
    "rf_red = RandomForest(n_trees=10, max_depth=10, min_samples_split=2)\n",
    "\n",
    "start = time.time()\n",
    "\n",
    "rf_red.fit(X_train_red, y_train_red)\n",
    "\n",
    "end = time.time()\n",
    "\n",
    "print('Training time: ', end - start)"
   ],
   "metadata": {
    "collapsed": false,
    "ExecuteTime": {
     "end_time": "2024-03-24T09:10:18.349423Z",
     "start_time": "2024-03-24T09:10:12.810046Z"
    }
   },
   "id": "a5a631e774d3ae50",
   "execution_count": 9
  },
  {
   "cell_type": "code",
   "outputs": [
    {
     "name": "stdout",
     "output_type": "stream",
     "text": [
      "Training time:  14.447388410568237\n"
     ]
    }
   ],
   "source": [
    "rf_white = RandomForest(n_trees=10, max_depth=10, min_samples_split=2)\n",
    "\n",
    "start = time.time()\n",
    "\n",
    "rf_white.fit(X_train_white, y_train_white)\n",
    "\n",
    "end = time.time()\n",
    "\n",
    "print('Training time: ', end - start)"
   ],
   "metadata": {
    "collapsed": false,
    "ExecuteTime": {
     "end_time": "2024-03-24T09:10:32.801025Z",
     "start_time": "2024-03-24T09:10:18.350895Z"
    }
   },
   "id": "8ca9cbdf57c2fb72",
   "execution_count": 10
  },
  {
   "cell_type": "markdown",
   "source": [
    "Evaluate Random Forest"
   ],
   "metadata": {
    "collapsed": false
   },
   "id": "5962b1dc8fd21ac"
  },
  {
   "cell_type": "code",
   "outputs": [
    {
     "name": "stdout",
     "output_type": "stream",
     "text": [
      "MAE:  0.725\n",
      "MSE:  1.125\n",
      "Categorical accuracy:  0.4625\n",
      "MAE accuracy:  0.855\n",
      "MSE accuracy:  0.955\n"
     ]
    }
   ],
   "source": [
    "y_pred_red = rf_red.predict(X_test_red)\n",
    "\n",
    "m_red = max_dif(y_red)\n",
    "\n",
    "print('MAE: ', mae(y_test_red, y_pred_red))\n",
    "print('MSE: ', mse(y_test_red, y_pred_red))\n",
    "\n",
    "print('Categorical accuracy: ', categorical_accuracy(y_test_red, y_pred_red))\n",
    "print('MAE accuracy: ', mae_accuracy(m_red, y_test_red, y_pred_red))\n",
    "print('MSE accuracy: ', mse_accuracy(m_red, y_test_red, y_pred_red))"
   ],
   "metadata": {
    "collapsed": false,
    "ExecuteTime": {
     "end_time": "2024-03-24T09:10:32.810599Z",
     "start_time": "2024-03-24T09:10:32.802023Z"
    }
   },
   "id": "550eff31ef11c993",
   "execution_count": 11
  },
  {
   "cell_type": "code",
   "outputs": [
    {
     "name": "stdout",
     "output_type": "stream",
     "text": [
      "MAE:  0.6265306122448979\n",
      "MSE:  0.7755102040816326\n",
      "Categorical accuracy:  0.44387755102040816\n",
      "MAE accuracy:  0.895578231292517\n",
      "MSE accuracy:  0.9784580498866213\n"
     ]
    }
   ],
   "source": [
    "y_pred_white = rf_white.predict(X_test_white)\n",
    "\n",
    "m_white = max_dif(y_white)\n",
    "\n",
    "print('MAE: ', mae(y_test_white, y_pred_white))\n",
    "print('MSE: ', mse(y_test_white, y_pred_white))\n",
    "\n",
    "print('Categorical accuracy: ', categorical_accuracy(y_test_white, y_pred_white))\n",
    "print('MAE accuracy: ', mae_accuracy(m_white, y_test_white, y_pred_white))\n",
    "print('MSE accuracy: ', mse_accuracy(m_white, y_test_white, y_pred_white))"
   ],
   "metadata": {
    "collapsed": false,
    "ExecuteTime": {
     "end_time": "2024-03-24T09:10:32.839312Z",
     "start_time": "2024-03-24T09:10:32.811361Z"
    }
   },
   "id": "dba654760e6f8140",
   "execution_count": 12
  },
  {
   "cell_type": "code",
   "outputs": [],
   "source": [],
   "metadata": {
    "collapsed": false,
    "ExecuteTime": {
     "end_time": "2024-03-24T09:10:32.842152Z",
     "start_time": "2024-03-24T09:10:32.840330Z"
    }
   },
   "id": "dba1f53e400b2a65",
   "execution_count": 12
  }
 ],
 "metadata": {
  "kernelspec": {
   "display_name": "Python 3",
   "language": "python",
   "name": "python3"
  },
  "language_info": {
   "codemirror_mode": {
    "name": "ipython",
    "version": 2
   },
   "file_extension": ".py",
   "mimetype": "text/x-python",
   "name": "python",
   "nbconvert_exporter": "python",
   "pygments_lexer": "ipython2",
   "version": "2.7.6"
  }
 },
 "nbformat": 4,
 "nbformat_minor": 5
}
