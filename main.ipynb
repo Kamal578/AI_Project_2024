{
 "cells": [
  {
   "cell_type": "markdown",
   "source": [
    "# Wine Quality Prediction using Random Forest"
   ],
   "metadata": {
    "collapsed": false
   },
   "id": "5ff1b17c9781a3e0"
  },
  {
   "cell_type": "markdown",
   "source": [
    "#### Import libraries"
   ],
   "metadata": {
    "collapsed": false
   },
   "id": "13dd4acca2d2b8fb"
  },
  {
   "cell_type": "code",
   "outputs": [],
   "source": [
    "import time\n",
    "\n",
    "import pandas as pd\n",
    "from sklearn.model_selection import train_test_split\n",
    "from matplotlib import pyplot as plt\n",
    "%matplotlib inline\n",
    "\n",
    "from src.DecisionTree import DecisionTreeClassifier, DecisionTreeRegressor\n",
    "from src.RandomForest import RandomForestClassifier, RandomForestRegressor\n",
    "from utils.metrics import accuracy, mae"
   ],
   "metadata": {
    "collapsed": false,
    "ExecuteTime": {
     "end_time": "2024-03-24T20:10:35.677215Z",
     "start_time": "2024-03-24T20:10:34.944554Z"
    }
   },
   "id": "initial_id",
   "execution_count": 1
  },
  {
   "cell_type": "markdown",
   "source": [
    "#### Load the data"
   ],
   "metadata": {
    "collapsed": false
   },
   "id": "741b8f7819cbd11d"
  },
  {
   "cell_type": "code",
   "outputs": [],
   "source": [
    "df_red = pd.read_csv('data/winequality-red_NO_ALCOHOL.csv', sep=';')\n",
    "df_white = pd.read_csv('data/winequality-white_NO_ALCOHOL.csv', sep=';')"
   ],
   "metadata": {
    "collapsed": false,
    "ExecuteTime": {
     "end_time": "2024-03-24T20:10:35.688278Z",
     "start_time": "2024-03-24T20:10:35.678413Z"
    }
   },
   "id": "541b988f37a95c3a",
   "execution_count": 2
  },
  {
   "cell_type": "markdown",
   "source": [
    "## Red Wine Dataset"
   ],
   "metadata": {
    "collapsed": false
   },
   "id": "9381eb0f644c8f4f"
  },
  {
   "cell_type": "markdown",
   "source": [
    "#### Split the data into training and testing sets"
   ],
   "metadata": {
    "collapsed": false
   },
   "id": "3967a3faec03383d"
  },
  {
   "cell_type": "code",
   "outputs": [],
   "source": [
    "X_red = df_red.drop('quality', axis=1).values\n",
    "y_red = df_red['quality'].values\n",
    "\n",
    "X_train_red, X_test_red, y_train_red, y_test_red = train_test_split(X_red, y_red, test_size=0.2)"
   ],
   "metadata": {
    "collapsed": false,
    "ExecuteTime": {
     "end_time": "2024-03-24T20:10:35.692380Z",
     "start_time": "2024-03-24T20:10:35.689147Z"
    }
   },
   "id": "5639facfa9ea3058",
   "execution_count": 3
  },
  {
   "cell_type": "markdown",
   "source": [
    "### Decision Tree Classifier"
   ],
   "metadata": {
    "collapsed": false
   },
   "id": "f5608d57a9e63bde"
  },
  {
   "cell_type": "code",
   "outputs": [],
   "source": [
    "dt_class = DecisionTreeClassifier(max_depth=10)"
   ],
   "metadata": {
    "collapsed": false,
    "ExecuteTime": {
     "end_time": "2024-03-24T20:10:35.695188Z",
     "start_time": "2024-03-24T20:10:35.693462Z"
    }
   },
   "id": "a0119c71bf54192",
   "execution_count": 4
  },
  {
   "cell_type": "markdown",
   "source": [
    "#### Train the model"
   ],
   "metadata": {
    "collapsed": false
   },
   "id": "3aaa34f80af95b5d"
  },
  {
   "cell_type": "code",
   "outputs": [
    {
     "name": "stdout",
     "output_type": "stream",
     "text": [
      "Training time: 0.3434140682220459 seconds\n"
     ]
    }
   ],
   "source": [
    "start = time.time()\n",
    "dt_class.fit(X_train_red, y_train_red)\n",
    "end = time.time()\n",
    "print(f'Training time: {end - start} seconds')"
   ],
   "metadata": {
    "collapsed": false,
    "ExecuteTime": {
     "end_time": "2024-03-24T20:10:36.041439Z",
     "start_time": "2024-03-24T20:10:35.695866Z"
    }
   },
   "id": "7f8f0ade42182cab",
   "execution_count": 5
  },
  {
   "cell_type": "markdown",
   "source": [
    "#### Predict the test set"
   ],
   "metadata": {
    "collapsed": false
   },
   "id": "666f25d396d4a2fb"
  },
  {
   "cell_type": "code",
   "outputs": [],
   "source": [
    "y_pred = dt_class.predict(X_test_red)"
   ],
   "metadata": {
    "collapsed": false,
    "ExecuteTime": {
     "end_time": "2024-03-24T20:10:36.045671Z",
     "start_time": "2024-03-24T20:10:36.042509Z"
    }
   },
   "id": "f6ded51d3332008c",
   "execution_count": 6
  },
  {
   "cell_type": "markdown",
   "source": [
    "#### Evaluate the model"
   ],
   "metadata": {
    "collapsed": false
   },
   "id": "eef6fc7655169c06"
  },
  {
   "cell_type": "code",
   "outputs": [
    {
     "name": "stdout",
     "output_type": "stream",
     "text": [
      "Accuracy: 0.4375\n"
     ]
    }
   ],
   "source": [
    "acc = accuracy(y_test_red, y_pred)\n",
    "print(f'Accuracy: {acc}')"
   ],
   "metadata": {
    "collapsed": false,
    "ExecuteTime": {
     "end_time": "2024-03-24T20:10:36.054190Z",
     "start_time": "2024-03-24T20:10:36.046422Z"
    }
   },
   "id": "edf2aeb56e1987f4",
   "execution_count": 7
  },
  {
   "cell_type": "markdown",
   "source": [
    "### Random Forest Classifier"
   ],
   "metadata": {
    "collapsed": false
   },
   "id": "d60da3c4ae5620af"
  },
  {
   "cell_type": "code",
   "outputs": [],
   "source": [
    "n_trees = 10\n",
    "rf_class = RandomForestClassifier(n_trees, max_depth=10)"
   ],
   "metadata": {
    "collapsed": false,
    "ExecuteTime": {
     "end_time": "2024-03-24T20:10:36.057105Z",
     "start_time": "2024-03-24T20:10:36.055016Z"
    }
   },
   "id": "6bb7e3a482b4d38c",
   "execution_count": 8
  },
  {
   "cell_type": "markdown",
   "source": [
    "#### Train the model"
   ],
   "metadata": {
    "collapsed": false
   },
   "id": "23d37ddb946aa6f2"
  },
  {
   "cell_type": "code",
   "outputs": [
    {
     "name": "stdout",
     "output_type": "stream",
     "text": [
      "Training time: 3.202526092529297 seconds\n"
     ]
    }
   ],
   "source": [
    "start = time.time()\n",
    "rf_class.fit(X_train_red, y_train_red)\n",
    "end = time.time()\n",
    "print(f'Training time: {end - start} seconds')"
   ],
   "metadata": {
    "collapsed": false,
    "ExecuteTime": {
     "end_time": "2024-03-24T20:10:39.263217Z",
     "start_time": "2024-03-24T20:10:36.058029Z"
    }
   },
   "id": "cb6d7b015cbea83b",
   "execution_count": 9
  },
  {
   "cell_type": "markdown",
   "source": [
    "#### Predict the test set"
   ],
   "metadata": {
    "collapsed": false
   },
   "id": "b263c8f9df93e21c"
  },
  {
   "cell_type": "code",
   "outputs": [],
   "source": [
    "y_pred = rf_class.predict(X_test_red)"
   ],
   "metadata": {
    "collapsed": false,
    "ExecuteTime": {
     "end_time": "2024-03-24T20:10:39.270962Z",
     "start_time": "2024-03-24T20:10:39.265445Z"
    }
   },
   "id": "c4cc0b925de13769",
   "execution_count": 10
  },
  {
   "cell_type": "markdown",
   "source": [
    "#### Evaluate the model"
   ],
   "metadata": {
    "collapsed": false
   },
   "id": "7d13d8b5b28c3dc1"
  },
  {
   "cell_type": "code",
   "outputs": [
    {
     "name": "stdout",
     "output_type": "stream",
     "text": [
      "Accuracy: 0.440625\n"
     ]
    }
   ],
   "source": [
    "acc = accuracy(y_test_red, y_pred)\n",
    "print(f'Accuracy: {acc}')"
   ],
   "metadata": {
    "collapsed": false,
    "ExecuteTime": {
     "end_time": "2024-03-24T20:10:39.279407Z",
     "start_time": "2024-03-24T20:10:39.271949Z"
    }
   },
   "id": "cc747abfb9c6337e",
   "execution_count": 11
  },
  {
   "cell_type": "markdown",
   "source": [
    "As we can see, the Random Forest model has a slightly higher accuracy than the Decision Tree model."
   ],
   "metadata": {
    "collapsed": false
   },
   "id": "e6b4a7412bc24d0f"
  },
  {
   "cell_type": "markdown",
   "source": [
    "#### Train the model with different numbers of trees to compare the accuracy"
   ],
   "metadata": {
    "collapsed": false
   },
   "id": "4b558013719b4de4"
  },
  {
   "cell_type": "code",
   "outputs": [],
   "source": [
    "n_trees = list(range(5, 51, 5))\n",
    "accuracies = []"
   ],
   "metadata": {
    "collapsed": false,
    "ExecuteTime": {
     "end_time": "2024-03-24T20:10:39.282741Z",
     "start_time": "2024-03-24T20:10:39.280312Z"
    }
   },
   "id": "36bac320eda17434",
   "execution_count": 12
  },
  {
   "cell_type": "code",
   "outputs": [],
   "source": [
    "for n in n_trees:\n",
    "    rf = RandomForestClassifier(n, max_depth=10)\n",
    "    rf.fit(X_train_red, y_train_red)\n",
    "    y_pred = rf.predict(X_test_red)\n",
    "    acc = accuracy(y_test_red, y_pred)\n",
    "    accuracies.append(acc)"
   ],
   "metadata": {
    "collapsed": false,
    "ExecuteTime": {
     "end_time": "2024-03-24T20:11:52.812297Z",
     "start_time": "2024-03-24T20:10:39.283748Z"
    }
   },
   "id": "ca7f823482786122",
   "execution_count": 13
  },
  {
   "cell_type": "markdown",
   "source": [
    "#### Plot the accuracy"
   ],
   "metadata": {
    "collapsed": false
   },
   "id": "668848525b7d8364"
  },
  {
   "cell_type": "code",
   "outputs": [
    {
     "data": {
      "text/plain": "<Figure size 640x480 with 1 Axes>",
      "image/png": "[encoded data removed]"
     },
     "metadata": {},
     "output_type": "display_data"
    }
   ],
   "source": [
    "plt.plot(n_trees, accuracies)\n",
    "plt.xlabel('Number of Trees')\n",
    "plt.ylabel('Accuracy')\n",
    "plt.title('Random Forest Accuracy vs Number of Trees')\n",
    "plt.show()"
   ],
   "metadata": {
    "collapsed": false,
    "ExecuteTime": {
     "end_time": "2024-03-24T20:11:52.912751Z",
     "start_time": "2024-03-24T20:11:52.813086Z"
    }
   },
   "id": "30f245b08ba848ca",
   "execution_count": 14
  },
  {
   "cell_type": "markdown",
   "source": [
    "### Decision Tree Regressor"
   ],
   "metadata": {
    "collapsed": false
   },
   "id": "7a7c30a9ff2afe8b"
  },
  {
   "cell_type": "code",
   "outputs": [],
   "source": [
    "dt_reg = DecisionTreeRegressor(max_depth=10)"
   ],
   "metadata": {
    "collapsed": false,
    "ExecuteTime": {
     "end_time": "2024-03-24T20:11:52.916204Z",
     "start_time": "2024-03-24T20:11:52.913861Z"
    }
   },
   "id": "1f15b0a3c0257eb9",
   "execution_count": 15
  },
  {
   "cell_type": "markdown",
   "source": [
    "#### Train the model"
   ],
   "metadata": {
    "collapsed": false
   },
   "id": "af408820f763f42"
  },
  {
   "cell_type": "code",
   "outputs": [
    {
     "name": "stdout",
     "output_type": "stream",
     "text": [
      "Training time: 0.3805811405181885 seconds\n"
     ]
    }
   ],
   "source": [
    "start = time.time()\n",
    "dt_reg.fit(X_train_red, y_train_red)\n",
    "end = time.time()\n",
    "print(f'Training time: {end - start} seconds')"
   ],
   "metadata": {
    "collapsed": false,
    "ExecuteTime": {
     "end_time": "2024-03-24T20:11:53.300278Z",
     "start_time": "2024-03-24T20:11:52.917219Z"
    }
   },
   "id": "bb58636e0152afc1",
   "execution_count": 16
  },
  {
   "cell_type": "markdown",
   "source": [
    "#### Predict the test set"
   ],
   "metadata": {
    "collapsed": false
   },
   "id": "f2fd5dc14b2b157f"
  },
  {
   "cell_type": "code",
   "outputs": [],
   "source": [
    "y_pred = dt_reg.predict(X_test_red)"
   ],
   "metadata": {
    "collapsed": false,
    "ExecuteTime": {
     "end_time": "2024-03-24T20:11:53.303677Z",
     "start_time": "2024-03-24T20:11:53.301230Z"
    }
   },
   "id": "ea658aee971aef0d",
   "execution_count": 17
  },
  {
   "cell_type": "markdown",
   "source": [
    "#### Evaluate the model"
   ],
   "metadata": {
    "collapsed": false
   },
   "id": "eb48f56fea9579f7"
  },
  {
   "cell_type": "code",
   "outputs": [
    {
     "name": "stdout",
     "output_type": "stream",
     "text": [
      "Mean Absolute Error: 0.6791190944881891\n"
     ]
    }
   ],
   "source": [
    "mae_score = mae(y_test_red, y_pred)\n",
    "print(f'Mean Absolute Error: {mae_score}')"
   ],
   "metadata": {
    "collapsed": false,
    "ExecuteTime": {
     "end_time": "2024-03-24T20:11:53.312110Z",
     "start_time": "2024-03-24T20:11:53.304682Z"
    }
   },
   "id": "f3968bd37829a05b",
   "execution_count": 18
  },
  {
   "cell_type": "markdown",
   "source": [
    "### Random Forest Regressor"
   ],
   "metadata": {
    "collapsed": false
   },
   "id": "3c8425cc14168c07"
  },
  {
   "cell_type": "code",
   "outputs": [],
   "source": [
    "n_trees = 10\n",
    "rf_reg = RandomForestRegressor(n_trees, max_depth=10)"
   ],
   "metadata": {
    "collapsed": false,
    "ExecuteTime": {
     "end_time": "2024-03-24T20:11:53.315748Z",
     "start_time": "2024-03-24T20:11:53.313285Z"
    }
   },
   "id": "64b3a98cd857447d",
   "execution_count": 19
  },
  {
   "cell_type": "markdown",
   "source": [
    "#### Train the model"
   ],
   "metadata": {
    "collapsed": false
   },
   "id": "80556e2f82b2f0ba"
  },
  {
   "cell_type": "code",
   "outputs": [
    {
     "name": "stdout",
     "output_type": "stream",
     "text": [
      "Training time: 2.6965959072113037 seconds\n"
     ]
    }
   ],
   "source": [
    "start = time.time()\n",
    "rf_reg.fit(X_train_red, y_train_red)\n",
    "end = time.time()\n",
    "print(f'Training time: {end - start} seconds')"
   ],
   "metadata": {
    "collapsed": false,
    "ExecuteTime": {
     "end_time": "2024-03-24T20:11:56.015431Z",
     "start_time": "2024-03-24T20:11:53.316673Z"
    }
   },
   "id": "e7f9cc89a4961595",
   "execution_count": 20
  },
  {
   "cell_type": "markdown",
   "source": [
    "#### Predict the test set"
   ],
   "metadata": {
    "collapsed": false
   },
   "id": "421f029700fa6c0d"
  },
  {
   "cell_type": "code",
   "outputs": [],
   "source": [
    "y_pred = rf_reg.predict(X_test_red)"
   ],
   "metadata": {
    "collapsed": false,
    "ExecuteTime": {
     "end_time": "2024-03-24T20:11:56.021285Z",
     "start_time": "2024-03-24T20:11:56.016171Z"
    }
   },
   "id": "536a95f7bd84fcd9",
   "execution_count": 21
  },
  {
   "cell_type": "markdown",
   "source": [
    "#### Evaluate the model"
   ],
   "metadata": {
    "collapsed": false
   },
   "id": "40cfce0c2f4d9f0a"
  },
  {
   "cell_type": "code",
   "outputs": [
    {
     "name": "stdout",
     "output_type": "stream",
     "text": [
      "Mean Absolute Error: 0.6776182543533339\n"
     ]
    }
   ],
   "source": [
    "mae_score = mae(y_test_red, y_pred)\n",
    "print(f'Mean Absolute Error: {mae_score}')"
   ],
   "metadata": {
    "collapsed": false,
    "ExecuteTime": {
     "end_time": "2024-03-24T20:11:56.029637Z",
     "start_time": "2024-03-24T20:11:56.021993Z"
    }
   },
   "id": "c233a12e0430ee0b",
   "execution_count": 22
  },
  {
   "cell_type": "markdown",
   "source": [
    "As we can see, the Random Forest model has a slightly lower Mean Absolute Error than the Decision Tree model."
   ],
   "metadata": {
    "collapsed": false
   },
   "id": "383cfd246bd5ea57"
  },
  {
   "cell_type": "markdown",
   "source": [
    "#### Train the model with different numbers of trees to compare the mean absolute error"
   ],
   "metadata": {
    "collapsed": false
   },
   "id": "4dfbc8a46872167a"
  },
  {
   "cell_type": "code",
   "outputs": [],
   "source": [
    "n_trees = list(range(5, 51, 5))\n",
    "mae_scores = []"
   ],
   "metadata": {
    "collapsed": false,
    "ExecuteTime": {
     "end_time": "2024-03-24T20:11:56.032576Z",
     "start_time": "2024-03-24T20:11:56.030624Z"
    }
   },
   "id": "10ecce82c30cdeda",
   "execution_count": 23
  },
  {
   "cell_type": "code",
   "outputs": [],
   "source": [
    "for n in n_trees:\n",
    "    rf = RandomForestRegressor(n, max_depth=10)\n",
    "    rf.fit(X_train_red, y_train_red)\n",
    "    y_pred = rf.predict(X_test_red)\n",
    "    mae_score = mae(y_test_red, y_pred)\n",
    "    mae_scores.append(mae_score)"
   ],
   "metadata": {
    "collapsed": false,
    "ExecuteTime": {
     "end_time": "2024-03-24T20:13:04.141552Z",
     "start_time": "2024-03-24T20:11:56.033411Z"
    }
   },
   "id": "9e10459cb003ff43",
   "execution_count": 24
  },
  {
   "cell_type": "markdown",
   "source": [
    "#### Plot the mean absolute error"
   ],
   "metadata": {
    "collapsed": false
   },
   "id": "5c60bb9d01c15504"
  },
  {
   "cell_type": "code",
   "outputs": [
    {
     "data": {
      "text/plain": "<Figure size 640x480 with 1 Axes>",
      "image/png": "[encoded data removed]"
     },
     "metadata": {},
     "output_type": "display_data"
    }
   ],
   "source": [
    "plt.plot(n_trees, mae_scores)\n",
    "plt.xlabel('Number of Trees')\n",
    "plt.ylabel('Mean Absolute Error')\n",
    "plt.title('Random Forest Mean Absolute Error vs Number of Trees')\n",
    "plt.show()"
   ],
   "metadata": {
    "collapsed": false,
    "ExecuteTime": {
     "end_time": "2024-03-24T20:13:04.256140Z",
     "start_time": "2024-03-24T20:13:04.142342Z"
    }
   },
   "id": "facddc2942c5fb9f",
   "execution_count": 25
  },
  {
   "cell_type": "markdown",
   "source": [
    "## White Wine Dataset"
   ],
   "metadata": {
    "collapsed": false
   },
   "id": "7e5a81498690fe05"
  },
  {
   "cell_type": "markdown",
   "source": [
    "#### Split the data into training and testing sets"
   ],
   "metadata": {
    "collapsed": false
   },
   "id": "712e3e9e629384f2"
  },
  {
   "cell_type": "code",
   "outputs": [],
   "source": [
    "X_white = df_white.drop('quality', axis=1).values\n",
    "y_white = df_white['quality'].values\n",
    "\n",
    "X_train_white, X_test_white, y_train_white, y_test_white = train_test_split(X_white, y_white, test_size=0.2)"
   ],
   "metadata": {
    "collapsed": false,
    "ExecuteTime": {
     "end_time": "2024-03-24T20:13:04.260734Z",
     "start_time": "2024-03-24T20:13:04.257012Z"
    }
   },
   "id": "b31eef2f3c87d03b",
   "execution_count": 26
  },
  {
   "cell_type": "markdown",
   "source": [
    "### Decision Tree Classifier"
   ],
   "metadata": {
    "collapsed": false
   },
   "id": "5f8ed22a7de0f60d"
  },
  {
   "cell_type": "code",
   "outputs": [],
   "source": [
    "dt_class = DecisionTreeClassifier(max_depth=10)"
   ],
   "metadata": {
    "collapsed": false,
    "ExecuteTime": {
     "end_time": "2024-03-24T20:13:04.264018Z",
     "start_time": "2024-03-24T20:13:04.261503Z"
    }
   },
   "id": "45d89b87e26bcd9a",
   "execution_count": 27
  },
  {
   "cell_type": "markdown",
   "source": [
    "#### Train the model"
   ],
   "metadata": {
    "collapsed": false
   },
   "id": "2a688f1ddcdbd2a1"
  },
  {
   "cell_type": "code",
   "outputs": [
    {
     "name": "stdout",
     "output_type": "stream",
     "text": [
      "Training time: 1.318471908569336 seconds\n"
     ]
    }
   ],
   "source": [
    "start = time.time()\n",
    "dt_class.fit(X_train_white, y_train_white)\n",
    "end = time.time()\n",
    "print(f'Training time: {end - start} seconds')"
   ],
   "metadata": {
    "collapsed": false,
    "ExecuteTime": {
     "end_time": "2024-03-24T20:13:05.587180Z",
     "start_time": "2024-03-24T20:13:04.266526Z"
    }
   },
   "id": "dba1f53e400b2a65",
   "execution_count": 28
  },
  {
   "cell_type": "markdown",
   "source": [
    "#### Predict the test set"
   ],
   "metadata": {
    "collapsed": false
   },
   "id": "771609f16d349e14"
  },
  {
   "cell_type": "code",
   "outputs": [],
   "source": [
    "y_pred = dt_class.predict(X_test_white)"
   ],
   "metadata": {
    "collapsed": false,
    "ExecuteTime": {
     "end_time": "2024-03-24T20:13:05.592089Z",
     "start_time": "2024-03-24T20:13:05.588128Z"
    }
   },
   "id": "6895a126d9447842",
   "execution_count": 29
  },
  {
   "cell_type": "markdown",
   "source": [
    "#### Evaluate the model"
   ],
   "metadata": {
    "collapsed": false
   },
   "id": "fe9744a2bad53e0"
  },
  {
   "cell_type": "code",
   "outputs": [
    {
     "name": "stdout",
     "output_type": "stream",
     "text": [
      "Accuracy: 0.30306122448979594\n"
     ]
    }
   ],
   "source": [
    "acc = accuracy(y_test_white, y_pred)\n",
    "print(f'Accuracy: {acc}')"
   ],
   "metadata": {
    "collapsed": false,
    "ExecuteTime": {
     "end_time": "2024-03-24T20:13:05.600472Z",
     "start_time": "2024-03-24T20:13:05.592899Z"
    }
   },
   "id": "ffb3b71d5d1c0b92",
   "execution_count": 30
  },
  {
   "cell_type": "markdown",
   "source": [
    "### Random Forest Classifier"
   ],
   "metadata": {
    "collapsed": false
   },
   "id": "32ff7a3853e0786"
  },
  {
   "cell_type": "code",
   "outputs": [],
   "source": [
    "n_trees = 10\n",
    "rf_class = RandomForestClassifier(n_trees, max_depth=10)"
   ],
   "metadata": {
    "collapsed": false,
    "ExecuteTime": {
     "end_time": "2024-03-24T20:13:05.603012Z",
     "start_time": "2024-03-24T20:13:05.601255Z"
    }
   },
   "id": "8e68fc43e2f47dda",
   "execution_count": 31
  },
  {
   "cell_type": "markdown",
   "source": [
    "#### Train the model"
   ],
   "metadata": {
    "collapsed": false
   },
   "id": "4d8dd6d8c3688b45"
  },
  {
   "cell_type": "code",
   "outputs": [
    {
     "name": "stdout",
     "output_type": "stream",
     "text": [
      "Training time: 10.26341199874878 seconds\n"
     ]
    }
   ],
   "source": [
    "start = time.time()\n",
    "rf_class.fit(X_train_white, y_train_white)\n",
    "end = time.time()\n",
    "print(f'Training time: {end - start} seconds')"
   ],
   "metadata": {
    "collapsed": false,
    "ExecuteTime": {
     "end_time": "2024-03-24T20:13:15.869205Z",
     "start_time": "2024-03-24T20:13:05.603663Z"
    }
   },
   "id": "fec918ceff5f9c02",
   "execution_count": 32
  },
  {
   "cell_type": "markdown",
   "source": [
    "#### Predict the test set"
   ],
   "metadata": {
    "collapsed": false
   },
   "id": "832db5011ab1e68d"
  },
  {
   "cell_type": "code",
   "outputs": [],
   "source": [
    "y_pred = rf_class.predict(X_test_white)"
   ],
   "metadata": {
    "collapsed": false,
    "ExecuteTime": {
     "end_time": "2024-03-24T20:13:15.887313Z",
     "start_time": "2024-03-24T20:13:15.870053Z"
    }
   },
   "id": "997bc30fa4584e7",
   "execution_count": 33
  },
  {
   "cell_type": "markdown",
   "source": [
    "#### Evaluate the model"
   ],
   "metadata": {
    "collapsed": false
   },
   "id": "ce9d1e2b67b640a3"
  },
  {
   "cell_type": "code",
   "outputs": [
    {
     "name": "stdout",
     "output_type": "stream",
     "text": [
      "Accuracy: 0.30306122448979594\n"
     ]
    }
   ],
   "source": [
    "acc = accuracy(y_test_white, y_pred)\n",
    "print(f'Accuracy: {acc}')"
   ],
   "metadata": {
    "collapsed": false,
    "ExecuteTime": {
     "end_time": "2024-03-24T20:13:15.895837Z",
     "start_time": "2024-03-24T20:13:15.888312Z"
    }
   },
   "id": "577e89dd25e3e38c",
   "execution_count": 34
  },
  {
   "cell_type": "markdown",
   "source": [
    "#### Train the model with different numbers of trees to compare the accuracy"
   ],
   "metadata": {
    "collapsed": false
   },
   "id": "68f5ebab52e3789b"
  },
  {
   "cell_type": "code",
   "outputs": [],
   "source": [
    "n_trees = list(range(5, 51, 5))\n",
    "accuracies = []"
   ],
   "metadata": {
    "collapsed": false,
    "ExecuteTime": {
     "end_time": "2024-03-24T20:13:15.899499Z",
     "start_time": "2024-03-24T20:13:15.897037Z"
    }
   },
   "id": "378bd9a6ca3b8839",
   "execution_count": 35
  },
  {
   "cell_type": "code",
   "outputs": [],
   "source": [
    "for n in n_trees:\n",
    "    rf = RandomForestClassifier(n, max_depth=10)\n",
    "    rf.fit(X_train_white, y_train_white)\n",
    "    y_pred = rf.predict(X_test_white)\n",
    "    acc = accuracy(y_test_white, y_pred)\n",
    "    accuracies.append(acc)"
   ],
   "metadata": {
    "collapsed": false,
    "ExecuteTime": {
     "end_time": "2024-03-24T20:18:13.892444Z",
     "start_time": "2024-03-24T20:13:15.900475Z"
    }
   },
   "id": "de7ab88d6c7fce91",
   "execution_count": 36
  },
  {
   "cell_type": "markdown",
   "source": [
    "#### Plot the accuracy"
   ],
   "metadata": {
    "collapsed": false
   },
   "id": "26c542ca5dd06488"
  },
  {
   "cell_type": "code",
   "outputs": [
    {
     "data": {
      "text/plain": "<Figure size 640x480 with 1 Axes>",
      "image/png": "[encoded data removed]"
     },
     "metadata": {},
     "output_type": "display_data"
    }
   ],
   "source": [
    "plt.plot(n_trees, accuracies)\n",
    "plt.xlabel('Number of Trees')\n",
    "plt.ylabel('Accuracy')\n",
    "plt.title('Random Forest Accuracy vs Number of Trees')\n",
    "plt.show()"
   ],
   "metadata": {
    "collapsed": false,
    "ExecuteTime": {
     "end_time": "2024-03-24T20:18:14.023568Z",
     "start_time": "2024-03-24T20:18:13.893243Z"
    }
   },
   "id": "313e5e593cbb0aa",
   "execution_count": 37
  },
  {
   "cell_type": "markdown",
   "source": [
    "### Decision Tree Regressor"
   ],
   "metadata": {
    "collapsed": false
   },
   "id": "b00ffb00426a07e2"
  },
  {
   "cell_type": "code",
   "outputs": [],
   "source": [
    "dt_reg = DecisionTreeRegressor(max_depth=10)"
   ],
   "metadata": {
    "collapsed": false,
    "ExecuteTime": {
     "end_time": "2024-03-24T20:18:14.026944Z",
     "start_time": "2024-03-24T20:18:14.024522Z"
    }
   },
   "id": "51c2b5fd5d9fd57d",
   "execution_count": 38
  },
  {
   "cell_type": "markdown",
   "source": [
    "#### Train the model"
   ],
   "metadata": {
    "collapsed": false
   },
   "id": "bfaeb72893325338"
  },
  {
   "cell_type": "code",
   "outputs": [
    {
     "name": "stdout",
     "output_type": "stream",
     "text": [
      "Training time: 1.151045322418213 seconds\n"
     ]
    }
   ],
   "source": [
    "start = time.time()\n",
    "dt_reg.fit(X_train_white, y_train_white)\n",
    "end = time.time()\n",
    "print(f'Training time: {end - start} seconds')"
   ],
   "metadata": {
    "collapsed": false,
    "ExecuteTime": {
     "end_time": "2024-03-24T20:18:15.186424Z",
     "start_time": "2024-03-24T20:18:14.027662Z"
    }
   },
   "id": "4b0e7fc84f01912c",
   "execution_count": 39
  },
  {
   "cell_type": "markdown",
   "source": [
    "#### Predict the test set"
   ],
   "metadata": {
    "collapsed": false
   },
   "id": "42e853bcb1f7537"
  },
  {
   "cell_type": "code",
   "outputs": [],
   "source": [
    "y_pred = dt_reg.predict(X_test_white)"
   ],
   "metadata": {
    "collapsed": false,
    "ExecuteTime": {
     "end_time": "2024-03-24T20:18:15.191419Z",
     "start_time": "2024-03-24T20:18:15.187348Z"
    }
   },
   "id": "464f2e34f4211d45",
   "execution_count": 40
  },
  {
   "cell_type": "markdown",
   "source": [
    "#### Evaluate the model"
   ],
   "metadata": {
    "collapsed": false
   },
   "id": "5bcf47a862e12267"
  },
  {
   "cell_type": "code",
   "outputs": [
    {
     "name": "stdout",
     "output_type": "stream",
     "text": [
      "Mean Absolute Error: 0.6544860340449545\n"
     ]
    }
   ],
   "source": [
    "mae_score = mae(y_test_white, y_pred)\n",
    "print(f'Mean Absolute Error: {mae_score}')"
   ],
   "metadata": {
    "collapsed": false,
    "ExecuteTime": {
     "end_time": "2024-03-24T20:18:15.199642Z",
     "start_time": "2024-03-24T20:18:15.192213Z"
    }
   },
   "id": "6ec0786fe8a1cc04",
   "execution_count": 41
  },
  {
   "cell_type": "markdown",
   "source": [
    "### Random Forest Regressor"
   ],
   "metadata": {
    "collapsed": false
   },
   "id": "4d023e677e2ceffc"
  },
  {
   "cell_type": "code",
   "outputs": [],
   "source": [
    "n_trees = 10\n",
    "rf_reg = RandomForestRegressor(n_trees, max_depth=10)"
   ],
   "metadata": {
    "collapsed": false,
    "ExecuteTime": {
     "end_time": "2024-03-24T20:18:15.202306Z",
     "start_time": "2024-03-24T20:18:15.200497Z"
    }
   },
   "id": "1592494956af424c",
   "execution_count": 42
  },
  {
   "cell_type": "markdown",
   "source": [
    "#### Train the model"
   ],
   "metadata": {
    "collapsed": false
   },
   "id": "6c6f5b7b05ee965b"
  },
  {
   "cell_type": "code",
   "outputs": [
    {
     "name": "stdout",
     "output_type": "stream",
     "text": [
      "Training time: 9.097282886505127 seconds\n"
     ]
    }
   ],
   "source": [
    "start = time.time()\n",
    "rf_reg.fit(X_train_white, y_train_white)\n",
    "end = time.time()\n",
    "print(f'Training time: {end - start} seconds')"
   ],
   "metadata": {
    "collapsed": false,
    "ExecuteTime": {
     "end_time": "2024-03-24T20:18:24.302883Z",
     "start_time": "2024-03-24T20:18:15.203324Z"
    }
   },
   "id": "d1081bdae2ca16a1",
   "execution_count": 43
  },
  {
   "cell_type": "markdown",
   "source": [
    "#### Predict the test set"
   ],
   "metadata": {
    "collapsed": false
   },
   "id": "662cf67bd05bd202"
  },
  {
   "cell_type": "code",
   "outputs": [],
   "source": [
    "y_pred = rf_reg.predict(X_test_white)"
   ],
   "metadata": {
    "collapsed": false,
    "ExecuteTime": {
     "end_time": "2024-03-24T20:18:24.320467Z",
     "start_time": "2024-03-24T20:18:24.303788Z"
    }
   },
   "id": "83f2645970f7275f",
   "execution_count": 44
  },
  {
   "cell_type": "markdown",
   "source": [
    "#### Evaluate the model"
   ],
   "metadata": {
    "collapsed": false
   },
   "id": "a7e2aea8ddab7265"
  },
  {
   "cell_type": "code",
   "outputs": [
    {
     "name": "stdout",
     "output_type": "stream",
     "text": [
      "Mean Absolute Error: 0.655772871326998\n"
     ]
    }
   ],
   "source": [
    "mae_score = mae(y_test_white, y_pred)\n",
    "print(f'Mean Absolute Error: {mae_score}')"
   ],
   "metadata": {
    "collapsed": false,
    "ExecuteTime": {
     "end_time": "2024-03-24T20:18:24.328742Z",
     "start_time": "2024-03-24T20:18:24.321266Z"
    }
   },
   "id": "be3ad11c8d1237b9",
   "execution_count": 45
  },
  {
   "cell_type": "markdown",
   "source": [
    "#### Train the model with different numbers of trees to compare the mean absolute error"
   ],
   "metadata": {
    "collapsed": false
   },
   "id": "119b09968f70f07c"
  },
  {
   "cell_type": "code",
   "outputs": [],
   "source": [
    "n_trees = list(range(5, 51, 5))\n",
    "mae_scores = []"
   ],
   "metadata": {
    "collapsed": false,
    "ExecuteTime": {
     "end_time": "2024-03-24T20:18:24.331304Z",
     "start_time": "2024-03-24T20:18:24.329531Z"
    }
   },
   "id": "dd9cfff30ec316b6",
   "execution_count": 46
  },
  {
   "cell_type": "code",
   "outputs": [],
   "source": [
    "for n in n_trees:\n",
    "    rf = RandomForestRegressor(n, max_depth=10)\n",
    "    rf.fit(X_train_white, y_train_white)\n",
    "    y_pred = rf.predict(X_test_white)\n",
    "    mae_score = mae(y_test_white, y_pred)\n",
    "    mae_scores.append(mae_score)"
   ],
   "metadata": {
    "collapsed": false,
    "ExecuteTime": {
     "end_time": "2024-03-24T20:22:46.888564Z",
     "start_time": "2024-03-24T20:18:24.332040Z"
    }
   },
   "id": "7e731199a84cf03d",
   "execution_count": 47
  },
  {
   "cell_type": "markdown",
   "source": [
    "#### Plot the mean absolute error"
   ],
   "metadata": {
    "collapsed": false
   },
   "id": "713cd40bf7399f6"
  },
  {
   "cell_type": "code",
   "outputs": [
    {
     "data": {
      "text/plain": "<Figure size 640x480 with 1 Axes>",
      "image/png": "[encoded data removed]"
     },
     "metadata": {},
     "output_type": "display_data"
    }
   ],
   "source": [
    "plt.plot(n_trees, mae_scores)\n",
    "plt.xlabel('Number of Trees')\n",
    "plt.ylabel('Mean Absolute Error')\n",
    "plt.title('Random Forest Mean Absolute Error vs Number of Trees')\n",
    "plt.show()"
   ],
   "metadata": {
    "collapsed": false,
    "ExecuteTime": {
     "end_time": "2024-03-24T20:22:46.977626Z",
     "start_time": "2024-03-24T20:22:46.889568Z"
    }
   },
   "id": "66c4ab40b497dc87",
   "execution_count": 48
  }
 ],
 "metadata": {
  "kernelspec": {
   "display_name": "Python 3",
   "language": "python",
   "name": "python3"
  },
  "language_info": {
   "codemirror_mode": {
    "name": "ipython",
    "version": 2
   },
   "file_extension": ".py",
   "mimetype": "text/x-python",
   "name": "python",
   "nbconvert_exporter": "python",
   "pygments_lexer": "ipython2",
   "version": "2.7.6"
  }
 },
 "nbformat": 4,
 "nbformat_minor": 5
}
