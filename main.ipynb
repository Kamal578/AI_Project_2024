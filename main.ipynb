{
 "cells": [
  {
   "cell_type": "markdown",
   "source": [
    "# Wine Quality Prediction using Random Forest"
   ],
   "metadata": {
    "collapsed": false
   },
   "id": "5ff1b17c9781a3e0"
  },
  {
   "cell_type": "markdown",
   "source": [
    "#### Import libraries"
   ],
   "metadata": {
    "collapsed": false
   },
   "id": "13dd4acca2d2b8fb"
  },
  {
   "cell_type": "code",
   "outputs": [],
   "source": [
    "import time\n",
    "\n",
    "import pandas as pd\n",
    "from sklearn.model_selection import train_test_split\n",
    "from matplotlib import pyplot as plt\n",
    "%matplotlib inline\n",
    "\n",
    "from src.DecisionTree import DecisionTreeClassifier, DecisionTreeRegressor\n",
    "from src.RandomForest import RandomForestClassifier, RandomForestRegressor\n",
    "from utils.metrics import accuracy, precision, recall, f1_score, mae, mse, rmse"
   ],
   "metadata": {
    "collapsed": false,
    "ExecuteTime": {
     "end_time": "2024-03-24T21:51:32.344767Z",
     "start_time": "2024-03-24T21:51:31.630027Z"
    }
   },
   "id": "initial_id",
   "execution_count": 1
  },
  {
   "cell_type": "markdown",
   "source": [
    "#### Load the data"
   ],
   "metadata": {
    "collapsed": false
   },
   "id": "741b8f7819cbd11d"
  },
  {
   "cell_type": "code",
   "outputs": [],
   "source": [
    "df_red = pd.read_csv('data/winequality-red_NO_ALCOHOL.csv', sep=';')\n",
    "df_white = pd.read_csv('data/winequality-white_NO_ALCOHOL.csv', sep=';')"
   ],
   "metadata": {
    "collapsed": false,
    "ExecuteTime": {
     "end_time": "2024-03-24T21:51:32.353865Z",
     "start_time": "2024-03-24T21:51:32.345758Z"
    }
   },
   "id": "541b988f37a95c3a",
   "execution_count": 2
  },
  {
   "cell_type": "markdown",
   "source": [
    "## Red Wine Dataset"
   ],
   "metadata": {
    "collapsed": false
   },
   "id": "9381eb0f644c8f4f"
  },
  {
   "cell_type": "markdown",
   "source": [
    "#### Split the data into training and testing sets"
   ],
   "metadata": {
    "collapsed": false
   },
   "id": "3967a3faec03383d"
  },
  {
   "cell_type": "code",
   "outputs": [],
   "source": [
    "X_red = df_red.drop('quality', axis=1).values\n",
    "y_red = df_red['quality'].values\n",
    "\n",
    "X_train_red, X_test_red, y_train_red, y_test_red = train_test_split(X_red, y_red, test_size=0.2)"
   ],
   "metadata": {
    "collapsed": false,
    "ExecuteTime": {
     "end_time": "2024-03-24T21:51:32.357944Z",
     "start_time": "2024-03-24T21:51:32.354665Z"
    }
   },
   "id": "5639facfa9ea3058",
   "execution_count": 3
  },
  {
   "cell_type": "markdown",
   "source": [
    "### Decision Tree Classifier"
   ],
   "metadata": {
    "collapsed": false
   },
   "id": "f5608d57a9e63bde"
  },
  {
   "cell_type": "code",
   "outputs": [],
   "source": [
    "dt_class = DecisionTreeClassifier(max_depth=10)"
   ],
   "metadata": {
    "collapsed": false,
    "ExecuteTime": {
     "end_time": "2024-03-24T21:51:32.360816Z",
     "start_time": "2024-03-24T21:51:32.358712Z"
    }
   },
   "id": "a0119c71bf54192",
   "execution_count": 4
  },
  {
   "cell_type": "markdown",
   "source": [
    "#### Train the model"
   ],
   "metadata": {
    "collapsed": false
   },
   "id": "3aaa34f80af95b5d"
  },
  {
   "cell_type": "code",
   "outputs": [
    {
     "name": "stdout",
     "output_type": "stream",
     "text": [
      "Training time: 0.3850743770599365 seconds\n"
     ]
    }
   ],
   "source": [
    "start = time.time()\n",
    "dt_class.fit(X_train_red, y_train_red)\n",
    "end = time.time()\n",
    "print(f'Training time: {end - start} seconds')"
   ],
   "metadata": {
    "collapsed": false,
    "ExecuteTime": {
     "end_time": "2024-03-24T21:51:32.749836Z",
     "start_time": "2024-03-24T21:51:32.362080Z"
    }
   },
   "id": "7f8f0ade42182cab",
   "execution_count": 5
  },
  {
   "cell_type": "markdown",
   "source": [
    "#### Predict the test set"
   ],
   "metadata": {
    "collapsed": false
   },
   "id": "666f25d396d4a2fb"
  },
  {
   "cell_type": "code",
   "outputs": [],
   "source": [
    "y_pred = dt_class.predict(X_test_red)"
   ],
   "metadata": {
    "collapsed": false,
    "ExecuteTime": {
     "end_time": "2024-03-24T21:51:32.754066Z",
     "start_time": "2024-03-24T21:51:32.750929Z"
    }
   },
   "id": "f6ded51d3332008c",
   "execution_count": 6
  },
  {
   "cell_type": "markdown",
   "source": [
    "#### Evaluate the model"
   ],
   "metadata": {
    "collapsed": false
   },
   "id": "eef6fc7655169c06"
  },
  {
   "cell_type": "code",
   "outputs": [
    {
     "name": "stdout",
     "output_type": "stream",
     "text": [
      "Accuracy: 0.3875\n",
      "Precision: 0.23113207547169812\n",
      "Recall: 0.169708545557442\n",
      "F1 Score: 0.19571413824909348\n"
     ]
    }
   ],
   "source": [
    "print(f'Accuracy: {accuracy(y_test_red, y_pred)}')\n",
    "print(f'Precision: {precision(y_test_red, y_pred)}')\n",
    "print(f'Recall: {recall(y_test_red, y_pred)}')\n",
    "print(f'F1 Score: {f1_score(y_test_red, y_pred)}')"
   ],
   "metadata": {
    "collapsed": false,
    "ExecuteTime": {
     "end_time": "2024-03-24T21:51:32.763053Z",
     "start_time": "2024-03-24T21:51:32.754857Z"
    }
   },
   "id": "edf2aeb56e1987f4",
   "execution_count": 7
  },
  {
   "cell_type": "markdown",
   "source": [
    "### Random Forest Classifier"
   ],
   "metadata": {
    "collapsed": false
   },
   "id": "d60da3c4ae5620af"
  },
  {
   "cell_type": "code",
   "outputs": [],
   "source": [
    "n_trees = 10\n",
    "rf_class = RandomForestClassifier(n_trees, max_depth=10)"
   ],
   "metadata": {
    "collapsed": false,
    "ExecuteTime": {
     "end_time": "2024-03-24T21:51:32.766212Z",
     "start_time": "2024-03-24T21:51:32.763840Z"
    }
   },
   "id": "6bb7e3a482b4d38c",
   "execution_count": 8
  },
  {
   "cell_type": "markdown",
   "source": [
    "#### Train the model"
   ],
   "metadata": {
    "collapsed": false
   },
   "id": "23d37ddb946aa6f2"
  },
  {
   "cell_type": "code",
   "outputs": [
    {
     "name": "stdout",
     "output_type": "stream",
     "text": [
      "Training time: 3.1562066078186035 seconds\n"
     ]
    }
   ],
   "source": [
    "start = time.time()\n",
    "rf_class.fit(X_train_red, y_train_red)\n",
    "end = time.time()\n",
    "print(f'Training time: {end - start} seconds')"
   ],
   "metadata": {
    "collapsed": false,
    "ExecuteTime": {
     "end_time": "2024-03-24T21:51:35.925125Z",
     "start_time": "2024-03-24T21:51:32.766884Z"
    }
   },
   "id": "cb6d7b015cbea83b",
   "execution_count": 9
  },
  {
   "cell_type": "markdown",
   "source": [
    "#### Predict the test set"
   ],
   "metadata": {
    "collapsed": false
   },
   "id": "b263c8f9df93e21c"
  },
  {
   "cell_type": "code",
   "outputs": [],
   "source": [
    "y_pred = rf_class.predict(X_test_red)"
   ],
   "metadata": {
    "collapsed": false,
    "ExecuteTime": {
     "end_time": "2024-03-24T21:51:35.931830Z",
     "start_time": "2024-03-24T21:51:35.926014Z"
    }
   },
   "id": "c4cc0b925de13769",
   "execution_count": 10
  },
  {
   "cell_type": "markdown",
   "source": [
    "#### Evaluate the model"
   ],
   "metadata": {
    "collapsed": false
   },
   "id": "7d13d8b5b28c3dc1"
  },
  {
   "cell_type": "code",
   "outputs": [
    {
     "name": "stdout",
     "output_type": "stream",
     "text": [
      "Accuracy: 0.39375\n",
      "Precision: 0.3428571428571428\n",
      "Recall: 0.17203954788844433\n",
      "F1 Score: 0.2291138743271177\n"
     ]
    }
   ],
   "source": [
    "print(f'Accuracy: {accuracy(y_test_red, y_pred)}')\n",
    "print(f'Precision: {precision(y_test_red, y_pred)}')\n",
    "print(f'Recall: {recall(y_test_red, y_pred)}')\n",
    "print(f'F1 Score: {f1_score(y_test_red, y_pred)}')"
   ],
   "metadata": {
    "collapsed": false,
    "ExecuteTime": {
     "end_time": "2024-03-24T21:51:35.941135Z",
     "start_time": "2024-03-24T21:51:35.932669Z"
    }
   },
   "id": "cc747abfb9c6337e",
   "execution_count": 11
  },
  {
   "cell_type": "markdown",
   "source": [
    "#### Train the model with different numbers of trees to compare the accuracy"
   ],
   "metadata": {
    "collapsed": false
   },
   "id": "4b558013719b4de4"
  },
  {
   "cell_type": "code",
   "outputs": [],
   "source": [
    "n_trees = list(range(5, 51, 5))\n",
    "accuracies = []"
   ],
   "metadata": {
    "collapsed": false,
    "ExecuteTime": {
     "end_time": "2024-03-24T21:51:35.943715Z",
     "start_time": "2024-03-24T21:51:35.941898Z"
    }
   },
   "id": "36bac320eda17434",
   "execution_count": 12
  },
  {
   "cell_type": "code",
   "outputs": [],
   "source": [
    "for n in n_trees:\n",
    "    rf = RandomForestClassifier(n, max_depth=10)\n",
    "    rf.fit(X_train_red, y_train_red)\n",
    "    y_pred = rf.predict(X_test_red)\n",
    "    acc = accuracy(y_test_red, y_pred)\n",
    "    accuracies.append(acc)"
   ],
   "metadata": {
    "collapsed": false,
    "ExecuteTime": {
     "end_time": "2024-03-24T21:53:03.961479Z",
     "start_time": "2024-03-24T21:51:35.944407Z"
    }
   },
   "id": "ca7f823482786122",
   "execution_count": 13
  },
  {
   "cell_type": "markdown",
   "source": [
    "#### Plot the accuracy"
   ],
   "metadata": {
    "collapsed": false
   },
   "id": "668848525b7d8364"
  },
  {
   "cell_type": "code",
   "outputs": [
    {
     "data": {
      "text/plain": "<Figure size 640x480 with 1 Axes>",
      "image/png": "[encoded data removed]"
     },
     "metadata": {},
     "output_type": "display_data"
    }
   ],
   "source": [
    "plt.plot(n_trees, accuracies)\n",
    "plt.xlabel('Number of Trees')\n",
    "plt.ylabel('Accuracy')\n",
    "plt.title('Random Forest Accuracy vs Number of Trees')\n",
    "plt.show()"
   ],
   "metadata": {
    "collapsed": false,
    "ExecuteTime": {
     "end_time": "2024-03-24T21:53:04.079618Z",
     "start_time": "2024-03-24T21:53:03.963708Z"
    }
   },
   "id": "30f245b08ba848ca",
   "execution_count": 14
  },
  {
   "cell_type": "markdown",
   "source": [
    "### Decision Tree Regressor"
   ],
   "metadata": {
    "collapsed": false
   },
   "id": "7a7c30a9ff2afe8b"
  },
  {
   "cell_type": "code",
   "outputs": [],
   "source": [
    "dt_reg = DecisionTreeRegressor(max_depth=10)"
   ],
   "metadata": {
    "collapsed": false,
    "ExecuteTime": {
     "end_time": "2024-03-24T21:53:04.082657Z",
     "start_time": "2024-03-24T21:53:04.080548Z"
    }
   },
   "id": "1f15b0a3c0257eb9",
   "execution_count": 15
  },
  {
   "cell_type": "markdown",
   "source": [
    "#### Train the model"
   ],
   "metadata": {
    "collapsed": false
   },
   "id": "af408820f763f42"
  },
  {
   "cell_type": "code",
   "outputs": [
    {
     "name": "stdout",
     "output_type": "stream",
     "text": [
      "Training time: 0.3497750759124756 seconds\n"
     ]
    }
   ],
   "source": [
    "start = time.time()\n",
    "dt_reg.fit(X_train_red, y_train_red)\n",
    "end = time.time()\n",
    "print(f'Training time: {end - start} seconds')"
   ],
   "metadata": {
    "collapsed": false,
    "ExecuteTime": {
     "end_time": "2024-03-24T21:53:04.440515Z",
     "start_time": "2024-03-24T21:53:04.083791Z"
    }
   },
   "id": "bb58636e0152afc1",
   "execution_count": 16
  },
  {
   "cell_type": "markdown",
   "source": [
    "#### Predict the test set"
   ],
   "metadata": {
    "collapsed": false
   },
   "id": "f2fd5dc14b2b157f"
  },
  {
   "cell_type": "code",
   "outputs": [],
   "source": [
    "y_pred = dt_reg.predict(X_test_red)"
   ],
   "metadata": {
    "collapsed": false,
    "ExecuteTime": {
     "end_time": "2024-03-24T21:53:04.443976Z",
     "start_time": "2024-03-24T21:53:04.441442Z"
    }
   },
   "id": "ea658aee971aef0d",
   "execution_count": 17
  },
  {
   "cell_type": "markdown",
   "source": [
    "#### Evaluate the model"
   ],
   "metadata": {
    "collapsed": false
   },
   "id": "eb48f56fea9579f7"
  },
  {
   "cell_type": "code",
   "outputs": [
    {
     "name": "stdout",
     "output_type": "stream",
     "text": [
      "Mean Absolute Error: 0.6588553979511426\n",
      "Mean Squared Error: 0.6094711333359415\n",
      "Root Mean Squared Error: 0.7806863219859443\n"
     ]
    }
   ],
   "source": [
    "print(f'Mean Absolute Error: {mae(y_test_red, y_pred)}')\n",
    "print(f'Mean Squared Error: {mse(y_test_red, y_pred)}')\n",
    "print(f'Root Mean Squared Error: {rmse(y_test_red, y_pred)}')"
   ],
   "metadata": {
    "collapsed": false,
    "ExecuteTime": {
     "end_time": "2024-03-24T21:53:04.452248Z",
     "start_time": "2024-03-24T21:53:04.444869Z"
    }
   },
   "id": "f3968bd37829a05b",
   "execution_count": 18
  },
  {
   "cell_type": "markdown",
   "source": [
    "### Random Forest Regressor"
   ],
   "metadata": {
    "collapsed": false
   },
   "id": "3c8425cc14168c07"
  },
  {
   "cell_type": "code",
   "outputs": [],
   "source": [
    "n_trees = 10\n",
    "rf_reg = RandomForestRegressor(n_trees, max_depth=10)"
   ],
   "metadata": {
    "collapsed": false,
    "ExecuteTime": {
     "end_time": "2024-03-24T21:53:04.455184Z",
     "start_time": "2024-03-24T21:53:04.453225Z"
    }
   },
   "id": "64b3a98cd857447d",
   "execution_count": 19
  },
  {
   "cell_type": "markdown",
   "source": [
    "#### Train the model"
   ],
   "metadata": {
    "collapsed": false
   },
   "id": "80556e2f82b2f0ba"
  },
  {
   "cell_type": "code",
   "outputs": [
    {
     "name": "stdout",
     "output_type": "stream",
     "text": [
      "Training time: 2.6534011363983154 seconds\n"
     ]
    }
   ],
   "source": [
    "start = time.time()\n",
    "rf_reg.fit(X_train_red, y_train_red)\n",
    "end = time.time()\n",
    "print(f'Training time: {end - start} seconds')"
   ],
   "metadata": {
    "collapsed": false,
    "ExecuteTime": {
     "end_time": "2024-03-24T21:53:07.111361Z",
     "start_time": "2024-03-24T21:53:04.455909Z"
    }
   },
   "id": "e7f9cc89a4961595",
   "execution_count": 20
  },
  {
   "cell_type": "markdown",
   "source": [
    "#### Predict the test set"
   ],
   "metadata": {
    "collapsed": false
   },
   "id": "421f029700fa6c0d"
  },
  {
   "cell_type": "code",
   "outputs": [],
   "source": [
    "y_pred = rf_reg.predict(X_test_red)"
   ],
   "metadata": {
    "collapsed": false,
    "ExecuteTime": {
     "end_time": "2024-03-24T21:53:07.117558Z",
     "start_time": "2024-03-24T21:53:07.112125Z"
    }
   },
   "id": "536a95f7bd84fcd9",
   "execution_count": 21
  },
  {
   "cell_type": "markdown",
   "source": [
    "#### Evaluate the model"
   ],
   "metadata": {
    "collapsed": false
   },
   "id": "40cfce0c2f4d9f0a"
  },
  {
   "cell_type": "code",
   "outputs": [
    {
     "name": "stdout",
     "output_type": "stream",
     "text": [
      "Mean Absolute Error: 0.6594572275162071\n",
      "Mean Squared Error: 0.6109318613880789\n",
      "Root Mean Squared Error: 0.7816213030541573\n"
     ]
    }
   ],
   "source": [
    "print(f'Mean Absolute Error: {mae(y_test_red, y_pred)}')\n",
    "print(f'Mean Squared Error: {mse(y_test_red, y_pred)}')\n",
    "print(f'Root Mean Squared Error: {rmse(y_test_red, y_pred)}')"
   ],
   "metadata": {
    "collapsed": false,
    "ExecuteTime": {
     "end_time": "2024-03-24T21:53:07.126573Z",
     "start_time": "2024-03-24T21:53:07.118343Z"
    }
   },
   "id": "c233a12e0430ee0b",
   "execution_count": 22
  },
  {
   "cell_type": "markdown",
   "source": [
    "As we can see, the Random Forest model has a slightly lower Mean Absolute Error than the Decision Tree model."
   ],
   "metadata": {
    "collapsed": false
   },
   "id": "383cfd246bd5ea57"
  },
  {
   "cell_type": "markdown",
   "source": [
    "#### Train the model with different numbers of trees to compare the mean absolute error"
   ],
   "metadata": {
    "collapsed": false
   },
   "id": "4dfbc8a46872167a"
  },
  {
   "cell_type": "code",
   "outputs": [],
   "source": [
    "n_trees = list(range(5, 51, 5))\n",
    "mae_scores = []"
   ],
   "metadata": {
    "collapsed": false,
    "ExecuteTime": {
     "end_time": "2024-03-24T21:53:07.129473Z",
     "start_time": "2024-03-24T21:53:07.127537Z"
    }
   },
   "id": "10ecce82c30cdeda",
   "execution_count": 23
  },
  {
   "cell_type": "code",
   "outputs": [],
   "source": [
    "for n in n_trees:\n",
    "    rf = RandomForestRegressor(n, max_depth=10)\n",
    "    rf.fit(X_train_red, y_train_red)\n",
    "    y_pred = rf.predict(X_test_red)\n",
    "    mae_score = mae(y_test_red, y_pred)\n",
    "    mae_scores.append(mae_score)"
   ],
   "metadata": {
    "collapsed": false,
    "ExecuteTime": {
     "end_time": "2024-03-24T21:54:21.904641Z",
     "start_time": "2024-03-24T21:53:07.130357Z"
    }
   },
   "id": "9e10459cb003ff43",
   "execution_count": 24
  },
  {
   "cell_type": "markdown",
   "source": [
    "#### Plot the mean absolute error"
   ],
   "metadata": {
    "collapsed": false
   },
   "id": "5c60bb9d01c15504"
  },
  {
   "cell_type": "code",
   "outputs": [
    {
     "data": {
      "text/plain": "<Figure size 640x480 with 1 Axes>",
      "image/png": "[encoded data removed]"
     },
     "metadata": {},
     "output_type": "display_data"
    }
   ],
   "source": [
    "plt.plot(n_trees, mae_scores)\n",
    "plt.xlabel('Number of Trees')\n",
    "plt.ylabel('Mean Absolute Error')\n",
    "plt.title('Random Forest Mean Absolute Error vs Number of Trees')\n",
    "plt.show()"
   ],
   "metadata": {
    "collapsed": false,
    "ExecuteTime": {
     "end_time": "2024-03-24T21:54:22.027394Z",
     "start_time": "2024-03-24T21:54:21.905608Z"
    }
   },
   "id": "facddc2942c5fb9f",
   "execution_count": 25
  },
  {
   "cell_type": "markdown",
   "source": [
    "## White Wine Dataset"
   ],
   "metadata": {
    "collapsed": false
   },
   "id": "7e5a81498690fe05"
  },
  {
   "cell_type": "markdown",
   "source": [
    "#### Split the data into training and testing sets"
   ],
   "metadata": {
    "collapsed": false
   },
   "id": "712e3e9e629384f2"
  },
  {
   "cell_type": "code",
   "outputs": [],
   "source": [
    "X_white = df_white.drop('quality', axis=1).values\n",
    "y_white = df_white['quality'].values\n",
    "\n",
    "X_train_white, X_test_white, y_train_white, y_test_white = train_test_split(X_white, y_white, test_size=0.2)"
   ],
   "metadata": {
    "collapsed": false,
    "ExecuteTime": {
     "end_time": "2024-03-24T21:54:22.031660Z",
     "start_time": "2024-03-24T21:54:22.028324Z"
    }
   },
   "id": "b31eef2f3c87d03b",
   "execution_count": 26
  },
  {
   "cell_type": "markdown",
   "source": [
    "### Decision Tree Classifier"
   ],
   "metadata": {
    "collapsed": false
   },
   "id": "5f8ed22a7de0f60d"
  },
  {
   "cell_type": "code",
   "outputs": [],
   "source": [
    "dt_class = DecisionTreeClassifier(max_depth=10)"
   ],
   "metadata": {
    "collapsed": false,
    "ExecuteTime": {
     "end_time": "2024-03-24T21:54:22.039220Z",
     "start_time": "2024-03-24T21:54:22.032342Z"
    }
   },
   "id": "45d89b87e26bcd9a",
   "execution_count": 27
  },
  {
   "cell_type": "markdown",
   "source": [
    "#### Train the model"
   ],
   "metadata": {
    "collapsed": false
   },
   "id": "2a688f1ddcdbd2a1"
  },
  {
   "cell_type": "code",
   "outputs": [
    {
     "name": "stdout",
     "output_type": "stream",
     "text": [
      "Training time: 1.3265430927276611 seconds\n"
     ]
    }
   ],
   "source": [
    "start = time.time()\n",
    "dt_class.fit(X_train_white, y_train_white)\n",
    "end = time.time()\n",
    "print(f'Training time: {end - start} seconds')"
   ],
   "metadata": {
    "collapsed": false,
    "ExecuteTime": {
     "end_time": "2024-03-24T21:54:23.368724Z",
     "start_time": "2024-03-24T21:54:22.039996Z"
    }
   },
   "id": "dba1f53e400b2a65",
   "execution_count": 28
  },
  {
   "cell_type": "markdown",
   "source": [
    "#### Predict the test set"
   ],
   "metadata": {
    "collapsed": false
   },
   "id": "771609f16d349e14"
  },
  {
   "cell_type": "code",
   "outputs": [],
   "source": [
    "y_pred = dt_class.predict(X_test_white)"
   ],
   "metadata": {
    "collapsed": false,
    "ExecuteTime": {
     "end_time": "2024-03-24T21:54:23.373414Z",
     "start_time": "2024-03-24T21:54:23.369577Z"
    }
   },
   "id": "6895a126d9447842",
   "execution_count": 29
  },
  {
   "cell_type": "markdown",
   "source": [
    "#### Evaluate the model"
   ],
   "metadata": {
    "collapsed": false
   },
   "id": "fe9744a2bad53e0"
  },
  {
   "cell_type": "code",
   "outputs": [
    {
     "name": "stdout",
     "output_type": "stream",
     "text": [
      "Accuracy: 0.2795918367346939\n",
      "Precision: 0.04674172637325145\n",
      "Recall: 0.16666666666666666\n",
      "F1 Score: 0.07300826005861977\n"
     ]
    }
   ],
   "source": [
    "print(f'Accuracy: {accuracy(y_test_white, y_pred)}')\n",
    "print(f'Precision: {precision(y_test_white, y_pred)}')\n",
    "print(f'Recall: {recall(y_test_white, y_pred)}')\n",
    "print(f'F1 Score: {f1_score(y_test_white, y_pred)}')"
   ],
   "metadata": {
    "collapsed": false,
    "ExecuteTime": {
     "end_time": "2024-03-24T21:54:23.382438Z",
     "start_time": "2024-03-24T21:54:23.374150Z"
    }
   },
   "id": "ffb3b71d5d1c0b92",
   "execution_count": 30
  },
  {
   "cell_type": "markdown",
   "source": [
    "### Random Forest Classifier"
   ],
   "metadata": {
    "collapsed": false
   },
   "id": "32ff7a3853e0786"
  },
  {
   "cell_type": "code",
   "outputs": [],
   "source": [
    "n_trees = 10\n",
    "rf_class = RandomForestClassifier(n_trees, max_depth=10)"
   ],
   "metadata": {
    "collapsed": false,
    "ExecuteTime": {
     "end_time": "2024-03-24T21:54:23.385173Z",
     "start_time": "2024-03-24T21:54:23.383260Z"
    }
   },
   "id": "8e68fc43e2f47dda",
   "execution_count": 31
  },
  {
   "cell_type": "markdown",
   "source": [
    "#### Train the model"
   ],
   "metadata": {
    "collapsed": false
   },
   "id": "4d8dd6d8c3688b45"
  },
  {
   "cell_type": "code",
   "outputs": [
    {
     "name": "stdout",
     "output_type": "stream",
     "text": [
      "Training time: 9.235231637954712 seconds\n"
     ]
    }
   ],
   "source": [
    "start = time.time()\n",
    "rf_class.fit(X_train_white, y_train_white)\n",
    "end = time.time()\n",
    "print(f'Training time: {end - start} seconds')"
   ],
   "metadata": {
    "collapsed": false,
    "ExecuteTime": {
     "end_time": "2024-03-24T21:54:32.623397Z",
     "start_time": "2024-03-24T21:54:23.386014Z"
    }
   },
   "id": "fec918ceff5f9c02",
   "execution_count": 32
  },
  {
   "cell_type": "markdown",
   "source": [
    "#### Predict the test set"
   ],
   "metadata": {
    "collapsed": false
   },
   "id": "832db5011ab1e68d"
  },
  {
   "cell_type": "code",
   "outputs": [],
   "source": [
    "y_pred = rf_class.predict(X_test_white)"
   ],
   "metadata": {
    "collapsed": false,
    "ExecuteTime": {
     "end_time": "2024-03-24T21:54:32.641165Z",
     "start_time": "2024-03-24T21:54:32.624344Z"
    }
   },
   "id": "997bc30fa4584e7",
   "execution_count": 33
  },
  {
   "cell_type": "markdown",
   "source": [
    "#### Evaluate the model"
   ],
   "metadata": {
    "collapsed": false
   },
   "id": "ce9d1e2b67b640a3"
  },
  {
   "cell_type": "code",
   "outputs": [
    {
     "name": "stdout",
     "output_type": "stream",
     "text": [
      "Accuracy: 0.2795918367346939\n",
      "Precision: 0.04674172637325145\n",
      "Recall: 0.16666666666666666\n",
      "F1 Score: 0.07300826005861977\n"
     ]
    }
   ],
   "source": [
    "print(f'Accuracy: {accuracy(y_test_white, y_pred)}')\n",
    "print(f'Precision: {precision(y_test_white, y_pred)}')\n",
    "print(f'Recall: {recall(y_test_white, y_pred)}')\n",
    "print(f'F1 Score: {f1_score(y_test_white, y_pred)}')"
   ],
   "metadata": {
    "collapsed": false,
    "ExecuteTime": {
     "end_time": "2024-03-24T21:54:32.651273Z",
     "start_time": "2024-03-24T21:54:32.641862Z"
    }
   },
   "id": "577e89dd25e3e38c",
   "execution_count": 34
  },
  {
   "cell_type": "markdown",
   "source": [
    "#### Train the model with different numbers of trees to compare the accuracy"
   ],
   "metadata": {
    "collapsed": false
   },
   "id": "68f5ebab52e3789b"
  },
  {
   "cell_type": "code",
   "outputs": [],
   "source": [
    "n_trees = list(range(5, 51, 5))\n",
    "accuracies = []"
   ],
   "metadata": {
    "collapsed": false,
    "ExecuteTime": {
     "end_time": "2024-03-24T21:54:32.654648Z",
     "start_time": "2024-03-24T21:54:32.652320Z"
    }
   },
   "id": "378bd9a6ca3b8839",
   "execution_count": 35
  },
  {
   "cell_type": "code",
   "outputs": [],
   "source": [
    "for n in n_trees:\n",
    "    rf = RandomForestClassifier(n, max_depth=10)\n",
    "    rf.fit(X_train_white, y_train_white)\n",
    "    y_pred = rf.predict(X_test_white)\n",
    "    acc = accuracy(y_test_white, y_pred)\n",
    "    accuracies.append(acc)"
   ],
   "metadata": {
    "collapsed": false,
    "ExecuteTime": {
     "end_time": "2024-03-24T21:59:09.954240Z",
     "start_time": "2024-03-24T21:54:32.655552Z"
    }
   },
   "id": "de7ab88d6c7fce91",
   "execution_count": 36
  },
  {
   "cell_type": "markdown",
   "source": [
    "#### Plot the accuracy"
   ],
   "metadata": {
    "collapsed": false
   },
   "id": "26c542ca5dd06488"
  },
  {
   "cell_type": "code",
   "outputs": [
    {
     "data": {
      "text/plain": "<Figure size 640x480 with 1 Axes>",
      "image/png": "[encoded data removed]"
     },
     "metadata": {},
     "output_type": "display_data"
    }
   ],
   "source": [
    "plt.plot(n_trees, accuracies)\n",
    "plt.xlabel('Number of Trees')\n",
    "plt.ylabel('Accuracy')\n",
    "plt.title('Random Forest Accuracy vs Number of Trees')\n",
    "plt.show()"
   ],
   "metadata": {
    "collapsed": false,
    "ExecuteTime": {
     "end_time": "2024-03-24T21:59:10.089589Z",
     "start_time": "2024-03-24T21:59:09.955146Z"
    }
   },
   "id": "313e5e593cbb0aa",
   "execution_count": 37
  },
  {
   "cell_type": "markdown",
   "source": [
    "### Decision Tree Regressor"
   ],
   "metadata": {
    "collapsed": false
   },
   "id": "b00ffb00426a07e2"
  },
  {
   "cell_type": "code",
   "outputs": [],
   "source": [
    "dt_reg = DecisionTreeRegressor(max_depth=10)"
   ],
   "metadata": {
    "collapsed": false,
    "ExecuteTime": {
     "end_time": "2024-03-24T21:59:10.093048Z",
     "start_time": "2024-03-24T21:59:10.090507Z"
    }
   },
   "id": "51c2b5fd5d9fd57d",
   "execution_count": 38
  },
  {
   "cell_type": "markdown",
   "source": [
    "#### Train the model"
   ],
   "metadata": {
    "collapsed": false
   },
   "id": "bfaeb72893325338"
  },
  {
   "cell_type": "code",
   "outputs": [
    {
     "name": "stdout",
     "output_type": "stream",
     "text": [
      "Training time: 1.0336580276489258 seconds\n"
     ]
    }
   ],
   "source": [
    "start = time.time()\n",
    "dt_reg.fit(X_train_white, y_train_white)\n",
    "end = time.time()\n",
    "print(f'Training time: {end - start} seconds')"
   ],
   "metadata": {
    "collapsed": false,
    "ExecuteTime": {
     "end_time": "2024-03-24T21:59:11.130020Z",
     "start_time": "2024-03-24T21:59:10.093967Z"
    }
   },
   "id": "4b0e7fc84f01912c",
   "execution_count": 39
  },
  {
   "cell_type": "markdown",
   "source": [
    "#### Predict the test set"
   ],
   "metadata": {
    "collapsed": false
   },
   "id": "42e853bcb1f7537"
  },
  {
   "cell_type": "code",
   "outputs": [],
   "source": [
    "y_pred = dt_reg.predict(X_test_white)"
   ],
   "metadata": {
    "collapsed": false,
    "ExecuteTime": {
     "end_time": "2024-03-24T21:59:11.134217Z",
     "start_time": "2024-03-24T21:59:11.130807Z"
    }
   },
   "id": "464f2e34f4211d45",
   "execution_count": 40
  },
  {
   "cell_type": "markdown",
   "source": [
    "#### Evaluate the model"
   ],
   "metadata": {
    "collapsed": false
   },
   "id": "5bcf47a862e12267"
  },
  {
   "cell_type": "code",
   "outputs": [
    {
     "name": "stdout",
     "output_type": "stream",
     "text": [
      "Mean Absolute Error: 0.6770230610156037\n",
      "Mean Squared Error: 0.7823086604140118\n",
      "Root Mean Squared Error: 0.884482142507135\n"
     ]
    }
   ],
   "source": [
    "print(f'Mean Absolute Error: {mae(y_test_white, y_pred)}')\n",
    "print(f'Mean Squared Error: {mse(y_test_white, y_pred)}')\n",
    "print(f'Root Mean Squared Error: {rmse(y_test_white, y_pred)}')"
   ],
   "metadata": {
    "collapsed": false,
    "ExecuteTime": {
     "end_time": "2024-03-24T21:59:11.139075Z",
     "start_time": "2024-03-24T21:59:11.136816Z"
    }
   },
   "id": "6ec0786fe8a1cc04",
   "execution_count": 41
  },
  {
   "cell_type": "markdown",
   "source": [
    "### Random Forest Regressor"
   ],
   "metadata": {
    "collapsed": false
   },
   "id": "4d023e677e2ceffc"
  },
  {
   "cell_type": "code",
   "outputs": [],
   "source": [
    "n_trees = 10\n",
    "rf_reg = RandomForestRegressor(n_trees, max_depth=10)"
   ],
   "metadata": {
    "collapsed": false,
    "ExecuteTime": {
     "end_time": "2024-03-24T21:59:11.141504Z",
     "start_time": "2024-03-24T21:59:11.139741Z"
    }
   },
   "id": "1592494956af424c",
   "execution_count": 42
  },
  {
   "cell_type": "markdown",
   "source": [
    "#### Train the model"
   ],
   "metadata": {
    "collapsed": false
   },
   "id": "6c6f5b7b05ee965b"
  },
  {
   "cell_type": "code",
   "outputs": [
    {
     "name": "stdout",
     "output_type": "stream",
     "text": [
      "Training time: 9.059849977493286 seconds\n"
     ]
    }
   ],
   "source": [
    "start = time.time()\n",
    "rf_reg.fit(X_train_white, y_train_white)\n",
    "end = time.time()\n",
    "print(f'Training time: {end - start} seconds')"
   ],
   "metadata": {
    "collapsed": false,
    "ExecuteTime": {
     "end_time": "2024-03-24T21:59:20.204234Z",
     "start_time": "2024-03-24T21:59:11.142214Z"
    }
   },
   "id": "d1081bdae2ca16a1",
   "execution_count": 43
  },
  {
   "cell_type": "markdown",
   "source": [
    "#### Predict the test set"
   ],
   "metadata": {
    "collapsed": false
   },
   "id": "662cf67bd05bd202"
  },
  {
   "cell_type": "code",
   "outputs": [],
   "source": [
    "y_pred = rf_reg.predict(X_test_white)"
   ],
   "metadata": {
    "collapsed": false,
    "ExecuteTime": {
     "end_time": "2024-03-24T21:59:20.220725Z",
     "start_time": "2024-03-24T21:59:20.205141Z"
    }
   },
   "id": "83f2645970f7275f",
   "execution_count": 44
  },
  {
   "cell_type": "markdown",
   "source": [
    "#### Evaluate the model"
   ],
   "metadata": {
    "collapsed": false
   },
   "id": "a7e2aea8ddab7265"
  },
  {
   "cell_type": "code",
   "outputs": [
    {
     "name": "stdout",
     "output_type": "stream",
     "text": [
      "Mean Absolute Error: 0.674188107136746\n",
      "Mean Squared Error: 0.7769180404072477\n",
      "Root Mean Squared Error: 0.8814295436433065\n"
     ]
    }
   ],
   "source": [
    "print(f'Mean Absolute Error: {mae(y_test_white, y_pred)}')\n",
    "print(f'Mean Squared Error: {mse(y_test_white, y_pred)}')\n",
    "print(f'Root Mean Squared Error: {rmse(y_test_white, y_pred)}')"
   ],
   "metadata": {
    "collapsed": false,
    "ExecuteTime": {
     "end_time": "2024-03-24T21:59:20.229865Z",
     "start_time": "2024-03-24T21:59:20.221650Z"
    }
   },
   "id": "be3ad11c8d1237b9",
   "execution_count": 45
  },
  {
   "cell_type": "markdown",
   "source": [
    "#### Train the model with different numbers of trees to compare the mean absolute error"
   ],
   "metadata": {
    "collapsed": false
   },
   "id": "119b09968f70f07c"
  },
  {
   "cell_type": "code",
   "outputs": [],
   "source": [
    "n_trees = list(range(5, 51, 5))\n",
    "mae_scores = []"
   ],
   "metadata": {
    "collapsed": false,
    "ExecuteTime": {
     "end_time": "2024-03-24T21:59:20.233925Z",
     "start_time": "2024-03-24T21:59:20.231349Z"
    }
   },
   "id": "dd9cfff30ec316b6",
   "execution_count": 46
  },
  {
   "cell_type": "code",
   "outputs": [],
   "source": [
    "for n in n_trees:\n",
    "    rf = RandomForestRegressor(n, max_depth=10)\n",
    "    rf.fit(X_train_white, y_train_white)\n",
    "    y_pred = rf.predict(X_test_white)\n",
    "    mae_score = mae(y_test_white, y_pred)\n",
    "    mae_scores.append(mae_score)"
   ],
   "metadata": {
    "collapsed": false,
    "ExecuteTime": {
     "end_time": "2024-03-24T22:03:24.417371Z",
     "start_time": "2024-03-24T21:59:20.234995Z"
    }
   },
   "id": "7e731199a84cf03d",
   "execution_count": 47
  },
  {
   "cell_type": "markdown",
   "source": [
    "#### Plot the mean absolute error"
   ],
   "metadata": {
    "collapsed": false
   },
   "id": "713cd40bf7399f6"
  },
  {
   "cell_type": "code",
   "outputs": [
    {
     "data": {
      "text/plain": "<Figure size 640x480 with 1 Axes>",
      "image/png": "[encoded data removed]"
     },
     "metadata": {},
     "output_type": "display_data"
    }
   ],
   "source": [
    "plt.plot(n_trees, mae_scores)\n",
    "plt.xlabel('Number of Trees')\n",
    "plt.ylabel('Mean Absolute Error')\n",
    "plt.title('Random Forest Mean Absolute Error vs Number of Trees')\n",
    "plt.show()"
   ],
   "metadata": {
    "collapsed": false,
    "ExecuteTime": {
     "end_time": "2024-03-24T22:03:24.527035Z",
     "start_time": "2024-03-24T22:03:24.418236Z"
    }
   },
   "id": "66c4ab40b497dc87",
   "execution_count": 48
  }
 ],
 "metadata": {
  "kernelspec": {
   "display_name": "Python 3",
   "language": "python",
   "name": "python3"
  },
  "language_info": {
   "codemirror_mode": {
    "name": "ipython",
    "version": 2
   },
   "file_extension": ".py",
   "mimetype": "text/x-python",
   "name": "python",
   "nbconvert_exporter": "python",
   "pygments_lexer": "ipython2",
   "version": "2.7.6"
  }
 },
 "nbformat": 4,
 "nbformat_minor": 5
}
